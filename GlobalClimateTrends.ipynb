{
 "cells": [
  {
   "cell_type": "markdown",
   "id": "14e40ccd-24db-4944-abf3-3496e4153729",
   "metadata": {},
   "source": [
    "#Global Climate Trends\n",
    "##Analysis"
   ]
  },
  {
   "cell_type": "code",
   "execution_count": 36,
   "id": "99fec3c8-3a75-41fc-86d2-421d66d9ad50",
   "metadata": {},
   "outputs": [],
   "source": [
    "import pandas as pd\n",
    "import os\n",
    "import csv"
   ]
  },
  {
   "cell_type": "code",
   "execution_count": 37,
   "id": "34962eac",
   "metadata": {},
   "outputs": [],
   "source": [
    "# Path to folders\n",
    "input_folder_path = os.path.join(\".\", \"input_data\")\n",
    "output_folder_path = os.path.join(\".\", \"output_data\")\n",
    "\n",
    "# Path to input files\n",
    "pec_input_file_path = os.path.join(input_folder_path, \"primary_energy_consumption.csv\")\n",
    "ecc_input_file_path = os.path.join(input_folder_path, \"energy_consumption_per_capita.csv\")\n",
    "ece_input_file_path = os.path.join(input_folder_path, \"Energy CO2 Emissions.csv\")\n",
    "# # Path to output files\n",
    "# pec_output_file_path = os.path.join(output_folder_path, \"primary_energy_consumption_by_year_n_country.csv\")\n",
    "# ecc_output_file_path = os.path.join(output_folder_path, \"energy_consumption_per_capita_by_year_n_country.csv\")\n",
    "# ece_output_file_path = os.path.join(output_folder_path, \"Energy CO2 Emissions_by_year_n_country.csv\")"
   ]
  },
  {
   "cell_type": "code",
   "execution_count": 38,
   "id": "b9a22399",
   "metadata": {},
   "outputs": [],
   "source": [
    "# Read input files\n",
    "df_pec = pd.read_csv(pec_input_file_path)\n",
    "df_ecc = pd.read_csv(ecc_input_file_path)\n",
    "df_ece = pd.read_csv(ece_input_file_path)"
   ]
  },
  {
   "cell_type": "code",
   "execution_count": 40,
   "id": "15a88e9d",
   "metadata": {},
   "outputs": [
    {
     "name": "stdout",
     "output_type": "stream",
     "text": [
      "Index(['Year', 'Country', 'Primary Energy Consumption'], dtype='object')\n",
      "Index(['Year', 'Country', 'Energy Consumption per Capita'], dtype='object')\n"
     ]
    }
   ],
   "source": [
    "print(df_pec.columns)\n",
    "print(df_ecc.columns)"
   ]
  },
  {
   "cell_type": "code",
   "execution_count": 44,
   "id": "5989d8ca",
   "metadata": {},
   "outputs": [
    {
     "name": "stdout",
     "output_type": "stream",
     "text": [
      "Index(['Carbon Dioxide Emissions from Energy', 'Unnamed: 1', 'Unnamed: 2',\n",
      "       'Unnamed: 3', 'Unnamed: 4', 'Unnamed: 5', 'Unnamed: 6', 'Unnamed: 7',\n",
      "       'Unnamed: 8', 'Contents', 'Unnamed: 10', 'Unnamed: 11', 'Unnamed: 12',\n",
      "       'Unnamed: 13', 'Unnamed: 14', 'Unnamed: 15', 'Unnamed: 16',\n",
      "       'Unnamed: 17', 'Unnamed: 18', 'Unnamed: 19', 'Unnamed: 20',\n",
      "       'Unnamed: 21', 'Unnamed: 22', 'Unnamed: 23', 'Unnamed: 24',\n",
      "       'Unnamed: 25', 'Unnamed: 26', 'Unnamed: 27', 'Unnamed: 28',\n",
      "       'Unnamed: 29', 'Unnamed: 30', 'Unnamed: 31', 'Unnamed: 32',\n",
      "       'Unnamed: 33', 'Unnamed: 34', 'Unnamed: 35', 'Unnamed: 36',\n",
      "       'Unnamed: 37', 'Unnamed: 38', 'Unnamed: 39', 'Unnamed: 40',\n",
      "       'Unnamed: 41', 'Unnamed: 42', 'Unnamed: 43', 'Unnamed: 44',\n",
      "       'Unnamed: 45', 'Unnamed: 46', 'Unnamed: 47', 'Unnamed: 48',\n",
      "       'Unnamed: 49', 'Unnamed: 50', 'Unnamed: 51', 'Unnamed: 52',\n",
      "       'Unnamed: 53', 'Unnamed: 54', 'Unnamed: 55', 'Unnamed: 56',\n",
      "       'Unnamed: 57', 'Unnamed: 58', 'Unnamed: 59', 'Unnamed: 60',\n",
      "       'Unnamed: 61'],\n",
      "      dtype='object')\n"
     ]
    },
    {
     "ename": "KeyError",
     "evalue": "'Year'",
     "output_type": "error",
     "traceback": [
      "\u001b[0;31m---------------------------------------------------------------------------\u001b[0m",
      "\u001b[0;31mKeyError\u001b[0m                                  Traceback (most recent call last)",
      "\u001b[0;32m/var/folders/0d/fld9msbx4z59907y17357kmc0000gn/T/ipykernel_61522/825573068.py\u001b[0m in \u001b[0;36m?\u001b[0;34m()\u001b[0m\n\u001b[1;32m      1\u001b[0m \u001b[0mmerged_df\u001b[0m \u001b[0;34m=\u001b[0m \u001b[0mpd\u001b[0m\u001b[0;34m.\u001b[0m\u001b[0mmerge\u001b[0m\u001b[0;34m(\u001b[0m\u001b[0mdf_pec\u001b[0m\u001b[0;34m,\u001b[0m \u001b[0mdf_ecc\u001b[0m\u001b[0;34m,\u001b[0m \u001b[0mon\u001b[0m\u001b[0;34m=\u001b[0m \u001b[0;34m[\u001b[0m\u001b[0;34m'Year'\u001b[0m\u001b[0;34m,\u001b[0m\u001b[0;34m'Country'\u001b[0m\u001b[0;34m]\u001b[0m\u001b[0;34m,\u001b[0m \u001b[0mhow\u001b[0m\u001b[0;34m=\u001b[0m\u001b[0;34m'inner'\u001b[0m\u001b[0;34m)\u001b[0m\u001b[0;34m\u001b[0m\u001b[0;34m\u001b[0m\u001b[0m\n\u001b[1;32m      2\u001b[0m \u001b[0;31m# merged_df\u001b[0m\u001b[0;34m\u001b[0m\u001b[0;34m\u001b[0m\u001b[0m\n\u001b[1;32m      3\u001b[0m \u001b[0mprint\u001b[0m\u001b[0;34m(\u001b[0m\u001b[0mdf_ece\u001b[0m\u001b[0;34m.\u001b[0m\u001b[0mcolumns\u001b[0m\u001b[0;34m)\u001b[0m\u001b[0;34m\u001b[0m\u001b[0;34m\u001b[0m\u001b[0m\n\u001b[1;32m      4\u001b[0m \u001b[0;34m\u001b[0m\u001b[0m\n\u001b[0;32m----> 5\u001b[0;31m \u001b[0mmerge_df2\u001b[0m \u001b[0;34m=\u001b[0m \u001b[0mpd\u001b[0m\u001b[0;34m.\u001b[0m\u001b[0mmerge\u001b[0m\u001b[0;34m(\u001b[0m\u001b[0mmerged_df\u001b[0m\u001b[0;34m,\u001b[0m \u001b[0mdf_ece\u001b[0m\u001b[0;34m,\u001b[0m \u001b[0mon\u001b[0m\u001b[0;34m=\u001b[0m \u001b[0;34m[\u001b[0m\u001b[0;34m'Year'\u001b[0m\u001b[0;34m,\u001b[0m\u001b[0;34m'Country'\u001b[0m\u001b[0;34m]\u001b[0m\u001b[0;34m,\u001b[0m \u001b[0mhow\u001b[0m\u001b[0;34m=\u001b[0m\u001b[0;34m'inner'\u001b[0m\u001b[0;34m)\u001b[0m\u001b[0;34m\u001b[0m\u001b[0;34m\u001b[0m\u001b[0m\n\u001b[0m\u001b[1;32m      6\u001b[0m \u001b[0mprint\u001b[0m\u001b[0;34m(\u001b[0m\u001b[0mmerge_df2\u001b[0m\u001b[0;34m)\u001b[0m\u001b[0;34m\u001b[0m\u001b[0;34m\u001b[0m\u001b[0m\n",
      "\u001b[0;32m~/anaconda3/envs/dev/lib/python3.10/site-packages/pandas/core/reshape/merge.py\u001b[0m in \u001b[0;36m?\u001b[0;34m(left, right, how, on, left_on, right_on, left_index, right_index, sort, suffixes, copy, indicator, validate)\u001b[0m\n\u001b[1;32m    165\u001b[0m             \u001b[0mvalidate\u001b[0m\u001b[0;34m=\u001b[0m\u001b[0mvalidate\u001b[0m\u001b[0;34m,\u001b[0m\u001b[0;34m\u001b[0m\u001b[0;34m\u001b[0m\u001b[0m\n\u001b[1;32m    166\u001b[0m             \u001b[0mcopy\u001b[0m\u001b[0;34m=\u001b[0m\u001b[0mcopy\u001b[0m\u001b[0;34m,\u001b[0m\u001b[0;34m\u001b[0m\u001b[0;34m\u001b[0m\u001b[0m\n\u001b[1;32m    167\u001b[0m         )\n\u001b[1;32m    168\u001b[0m     \u001b[0;32melse\u001b[0m\u001b[0;34m:\u001b[0m\u001b[0;34m\u001b[0m\u001b[0;34m\u001b[0m\u001b[0m\n\u001b[0;32m--> 169\u001b[0;31m         op = _MergeOperation(\n\u001b[0m\u001b[1;32m    170\u001b[0m             \u001b[0mleft_df\u001b[0m\u001b[0;34m,\u001b[0m\u001b[0;34m\u001b[0m\u001b[0;34m\u001b[0m\u001b[0m\n\u001b[1;32m    171\u001b[0m             \u001b[0mright_df\u001b[0m\u001b[0;34m,\u001b[0m\u001b[0;34m\u001b[0m\u001b[0;34m\u001b[0m\u001b[0m\n\u001b[1;32m    172\u001b[0m             \u001b[0mhow\u001b[0m\u001b[0;34m=\u001b[0m\u001b[0mhow\u001b[0m\u001b[0;34m,\u001b[0m\u001b[0;34m\u001b[0m\u001b[0;34m\u001b[0m\u001b[0m\n",
      "\u001b[0;32m~/anaconda3/envs/dev/lib/python3.10/site-packages/pandas/core/reshape/merge.py\u001b[0m in \u001b[0;36m?\u001b[0;34m(self, left, right, how, on, left_on, right_on, left_index, right_index, sort, suffixes, indicator, validate)\u001b[0m\n\u001b[1;32m    787\u001b[0m             \u001b[0mself\u001b[0m\u001b[0;34m.\u001b[0m\u001b[0mright_join_keys\u001b[0m\u001b[0;34m,\u001b[0m\u001b[0;34m\u001b[0m\u001b[0;34m\u001b[0m\u001b[0m\n\u001b[1;32m    788\u001b[0m             \u001b[0mself\u001b[0m\u001b[0;34m.\u001b[0m\u001b[0mjoin_names\u001b[0m\u001b[0;34m,\u001b[0m\u001b[0;34m\u001b[0m\u001b[0;34m\u001b[0m\u001b[0m\n\u001b[1;32m    789\u001b[0m             \u001b[0mleft_drop\u001b[0m\u001b[0;34m,\u001b[0m\u001b[0;34m\u001b[0m\u001b[0;34m\u001b[0m\u001b[0m\n\u001b[1;32m    790\u001b[0m             \u001b[0mright_drop\u001b[0m\u001b[0;34m,\u001b[0m\u001b[0;34m\u001b[0m\u001b[0;34m\u001b[0m\u001b[0m\n\u001b[0;32m--> 791\u001b[0;31m         ) = self._get_merge_keys()\n\u001b[0m\u001b[1;32m    792\u001b[0m \u001b[0;34m\u001b[0m\u001b[0m\n\u001b[1;32m    793\u001b[0m         \u001b[0;32mif\u001b[0m \u001b[0mleft_drop\u001b[0m\u001b[0;34m:\u001b[0m\u001b[0;34m\u001b[0m\u001b[0;34m\u001b[0m\u001b[0m\n\u001b[1;32m    794\u001b[0m             \u001b[0mself\u001b[0m\u001b[0;34m.\u001b[0m\u001b[0mleft\u001b[0m \u001b[0;34m=\u001b[0m \u001b[0mself\u001b[0m\u001b[0;34m.\u001b[0m\u001b[0mleft\u001b[0m\u001b[0;34m.\u001b[0m\u001b[0m_drop_labels_or_levels\u001b[0m\u001b[0;34m(\u001b[0m\u001b[0mleft_drop\u001b[0m\u001b[0;34m)\u001b[0m\u001b[0;34m\u001b[0m\u001b[0;34m\u001b[0m\u001b[0m\n",
      "\u001b[0;32m~/anaconda3/envs/dev/lib/python3.10/site-packages/pandas/core/reshape/merge.py\u001b[0m in \u001b[0;36m?\u001b[0;34m(self)\u001b[0m\n\u001b[1;32m   1265\u001b[0m                         \u001b[0;31m# Then we're either Hashable or a wrong-length arraylike,\u001b[0m\u001b[0;34m\u001b[0m\u001b[0;34m\u001b[0m\u001b[0m\n\u001b[1;32m   1266\u001b[0m                         \u001b[0;31m#  the latter of which will raise\u001b[0m\u001b[0;34m\u001b[0m\u001b[0;34m\u001b[0m\u001b[0m\n\u001b[1;32m   1267\u001b[0m                         \u001b[0mrk\u001b[0m \u001b[0;34m=\u001b[0m \u001b[0mcast\u001b[0m\u001b[0;34m(\u001b[0m\u001b[0mHashable\u001b[0m\u001b[0;34m,\u001b[0m \u001b[0mrk\u001b[0m\u001b[0;34m)\u001b[0m\u001b[0;34m\u001b[0m\u001b[0;34m\u001b[0m\u001b[0m\n\u001b[1;32m   1268\u001b[0m                         \u001b[0;32mif\u001b[0m \u001b[0mrk\u001b[0m \u001b[0;32mis\u001b[0m \u001b[0;32mnot\u001b[0m \u001b[0;32mNone\u001b[0m\u001b[0;34m:\u001b[0m\u001b[0;34m\u001b[0m\u001b[0;34m\u001b[0m\u001b[0m\n\u001b[0;32m-> 1269\u001b[0;31m                             \u001b[0mright_keys\u001b[0m\u001b[0;34m.\u001b[0m\u001b[0mappend\u001b[0m\u001b[0;34m(\u001b[0m\u001b[0mright\u001b[0m\u001b[0;34m.\u001b[0m\u001b[0m_get_label_or_level_values\u001b[0m\u001b[0;34m(\u001b[0m\u001b[0mrk\u001b[0m\u001b[0;34m)\u001b[0m\u001b[0;34m)\u001b[0m\u001b[0;34m\u001b[0m\u001b[0;34m\u001b[0m\u001b[0m\n\u001b[0m\u001b[1;32m   1270\u001b[0m                         \u001b[0;32melse\u001b[0m\u001b[0;34m:\u001b[0m\u001b[0;34m\u001b[0m\u001b[0;34m\u001b[0m\u001b[0m\n\u001b[1;32m   1271\u001b[0m                             \u001b[0;31m# work-around for merge_asof(right_index=True)\u001b[0m\u001b[0;34m\u001b[0m\u001b[0;34m\u001b[0m\u001b[0m\n\u001b[1;32m   1272\u001b[0m                             \u001b[0mright_keys\u001b[0m\u001b[0;34m.\u001b[0m\u001b[0mappend\u001b[0m\u001b[0;34m(\u001b[0m\u001b[0mright\u001b[0m\u001b[0;34m.\u001b[0m\u001b[0mindex\u001b[0m\u001b[0;34m.\u001b[0m\u001b[0m_values\u001b[0m\u001b[0;34m)\u001b[0m\u001b[0;34m\u001b[0m\u001b[0;34m\u001b[0m\u001b[0m\n",
      "\u001b[0;32m~/anaconda3/envs/dev/lib/python3.10/site-packages/pandas/core/generic.py\u001b[0m in \u001b[0;36m?\u001b[0;34m(self, key, axis)\u001b[0m\n\u001b[1;32m   1840\u001b[0m             \u001b[0mvalues\u001b[0m \u001b[0;34m=\u001b[0m \u001b[0mself\u001b[0m\u001b[0;34m.\u001b[0m\u001b[0mxs\u001b[0m\u001b[0;34m(\u001b[0m\u001b[0mkey\u001b[0m\u001b[0;34m,\u001b[0m \u001b[0maxis\u001b[0m\u001b[0;34m=\u001b[0m\u001b[0mother_axes\u001b[0m\u001b[0;34m[\u001b[0m\u001b[0;36m0\u001b[0m\u001b[0;34m]\u001b[0m\u001b[0;34m)\u001b[0m\u001b[0;34m.\u001b[0m\u001b[0m_values\u001b[0m\u001b[0;34m\u001b[0m\u001b[0;34m\u001b[0m\u001b[0m\n\u001b[1;32m   1841\u001b[0m         \u001b[0;32melif\u001b[0m \u001b[0mself\u001b[0m\u001b[0;34m.\u001b[0m\u001b[0m_is_level_reference\u001b[0m\u001b[0;34m(\u001b[0m\u001b[0mkey\u001b[0m\u001b[0;34m,\u001b[0m \u001b[0maxis\u001b[0m\u001b[0;34m=\u001b[0m\u001b[0maxis\u001b[0m\u001b[0;34m)\u001b[0m\u001b[0;34m:\u001b[0m\u001b[0;34m\u001b[0m\u001b[0;34m\u001b[0m\u001b[0m\n\u001b[1;32m   1842\u001b[0m             \u001b[0mvalues\u001b[0m \u001b[0;34m=\u001b[0m \u001b[0mself\u001b[0m\u001b[0;34m.\u001b[0m\u001b[0maxes\u001b[0m\u001b[0;34m[\u001b[0m\u001b[0maxis\u001b[0m\u001b[0;34m]\u001b[0m\u001b[0;34m.\u001b[0m\u001b[0mget_level_values\u001b[0m\u001b[0;34m(\u001b[0m\u001b[0mkey\u001b[0m\u001b[0;34m)\u001b[0m\u001b[0;34m.\u001b[0m\u001b[0m_values\u001b[0m\u001b[0;34m\u001b[0m\u001b[0;34m\u001b[0m\u001b[0m\n\u001b[1;32m   1843\u001b[0m         \u001b[0;32melse\u001b[0m\u001b[0;34m:\u001b[0m\u001b[0;34m\u001b[0m\u001b[0;34m\u001b[0m\u001b[0m\n\u001b[0;32m-> 1844\u001b[0;31m             \u001b[0;32mraise\u001b[0m \u001b[0mKeyError\u001b[0m\u001b[0;34m(\u001b[0m\u001b[0mkey\u001b[0m\u001b[0;34m)\u001b[0m\u001b[0;34m\u001b[0m\u001b[0;34m\u001b[0m\u001b[0m\n\u001b[0m\u001b[1;32m   1845\u001b[0m \u001b[0;34m\u001b[0m\u001b[0m\n\u001b[1;32m   1846\u001b[0m         \u001b[0;31m# Check for duplicates\u001b[0m\u001b[0;34m\u001b[0m\u001b[0;34m\u001b[0m\u001b[0m\n\u001b[1;32m   1847\u001b[0m         \u001b[0;32mif\u001b[0m \u001b[0mvalues\u001b[0m\u001b[0;34m.\u001b[0m\u001b[0mndim\u001b[0m \u001b[0;34m>\u001b[0m \u001b[0;36m1\u001b[0m\u001b[0;34m:\u001b[0m\u001b[0;34m\u001b[0m\u001b[0;34m\u001b[0m\u001b[0m\n",
      "\u001b[0;31mKeyError\u001b[0m: 'Year'"
     ]
    }
   ],
   "source": [
    "merged_df = pd.merge(df_pec, df_ecc, on= ['Year','Country'], how='inner')\n",
    "# merged_df\n",
    "# print(df_ece.columns)\n",
    "\n",
    "merge_df2 = pd.merge(merged_df, df_ece, on= ['Year','Country'], how='inner')\n",
    "print(merge_df2)"
   ]
  },
  {
   "cell_type": "code",
   "execution_count": 24,
   "id": "d518de64",
   "metadata": {},
   "outputs": [],
   "source": [
    "# def process_file(filename, columname):\n",
    "#     input_file_path = os.path.join(input_folder_path, filename)\n",
    "#     output_file_path = os.path.join(input_folder_path, filename)\n",
    "\n",
    "#     # Read data and store it in a dataframe\n",
    "#     data_df = pd.read_csv(input_file_path)\n",
    "\n",
    "#     df_array = []\n",
    "\n",
    "#     # Loop over the columns of the dataframe skipping the first column\n",
    "#     for column in data_df.columns[1:]:\n",
    "#         # Create a new dataframe with the country and the year\n",
    "#         cy_list = data_df[['Country', column]].copy()\n",
    "\n",
    "#         # Adding a new column to the dataframe and positionong\n",
    "#         cy_list.insert(0, 'Year', column)\n",
    "\n",
    "#         #Rename for dataset\n",
    "#         cy_list.rename(columns={column: columname}, inplace=True)\n",
    "\n",
    "#         # Adding the new dataframe to the array\n",
    "#         df_array.append(cy_list)\n",
    "\n",
    "#     return df_array\n",
    "#     # # Merge dfs \n",
    "#     # merged_df = pd.concat(df_array, ignore_index=True)\n",
    "\n",
    "#     # #Save csv\n",
    "#     # merged_df.to_csv(output_file_path, index=False, header=True)\n",
    "#     # return merged_df"
   ]
  },
  {
   "cell_type": "code",
   "execution_count": 25,
   "id": "7c39d3e1",
   "metadata": {},
   "outputs": [
    {
     "name": "stdout",
     "output_type": "stream",
     "text": [
      "[         Year Primary Energy Consumption Primary Energy Consumption\n",
      "0     Country                     Canada                     Canada\n",
      "1     Country                     Mexico                     Mexico\n",
      "2     Country                         US                         US\n",
      "3     Country                  Argentina                  Argentina\n",
      "4     Country                     Brazil                     Brazil\n",
      "...       ...                        ...                        ...\n",
      "3453  Country                  Sri Lanka                  Sri Lanka\n",
      "3454  Country                     Taiwan                     Taiwan\n",
      "3455  Country                   Thailand                   Thailand\n",
      "3456  Country                    Vietnam                    Vietnam\n",
      "3457  Country         Other Asia Pacific         Other Asia Pacific\n",
      "\n",
      "[3458 rows x 3 columns],                             Year             Country  \\\n",
      "0     Primary Energy Consumption              Canada   \n",
      "1     Primary Energy Consumption              Mexico   \n",
      "2     Primary Energy Consumption                  US   \n",
      "3     Primary Energy Consumption           Argentina   \n",
      "4     Primary Energy Consumption              Brazil   \n",
      "...                          ...                 ...   \n",
      "3453  Primary Energy Consumption           Sri Lanka   \n",
      "3454  Primary Energy Consumption              Taiwan   \n",
      "3455  Primary Energy Consumption            Thailand   \n",
      "3456  Primary Energy Consumption             Vietnam   \n",
      "3457  Primary Energy Consumption  Other Asia Pacific   \n",
      "\n",
      "     Primary Energy Consumption  \n",
      "0                         10.29  \n",
      "1                          4.08  \n",
      "2                         72.66  \n",
      "3                          1.73  \n",
      "4                          4.94  \n",
      "...                         ...  \n",
      "3453                       0.34  \n",
      "3454                       4.78  \n",
      "3455                       5.06  \n",
      "3456                       4.59  \n",
      "3457                       3.55  \n",
      "\n",
      "[3458 rows x 3 columns]]\n"
     ]
    }
   ],
   "source": [
    "# pec_df = process_file(\"primary_energy_consumption.csv\", \"Primary Energy Consumption\")\n",
    "# print(pec_df)"
   ]
  },
  {
   "cell_type": "markdown",
   "id": "a267a0e6",
   "metadata": {},
   "source": [
    "Energy Consumption Per Capita. DF"
   ]
  },
  {
   "cell_type": "code",
   "execution_count": 12,
   "id": "0e73c966",
   "metadata": {},
   "outputs": [],
   "source": [
    "# ecpc_df = process_file(\"energy_consumption_per_capita.csv\", \"Energy Consumption per Capita\")\n",
    "# ecpc_df"
   ]
  }
 ],
 "metadata": {
  "kernelspec": {
   "display_name": "Python 3 (ipykernel)",
   "language": "python",
   "name": "python3"
  },
  "language_info": {
   "codemirror_mode": {
    "name": "ipython",
    "version": 3
   },
   "file_extension": ".py",
   "mimetype": "text/x-python",
   "name": "python",
   "nbconvert_exporter": "python",
   "pygments_lexer": "ipython3",
   "version": "3.10.13"
  }
 },
 "nbformat": 4,
 "nbformat_minor": 5
}
