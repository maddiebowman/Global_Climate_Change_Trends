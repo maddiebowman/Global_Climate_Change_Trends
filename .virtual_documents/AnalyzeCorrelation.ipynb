import pandas as pd
import numpy as np
import os
import csv
from scipy.stats import linregress


df = pd.read_csv(os.path.join('Data','csv','output','final_data.csv'))
df


source_list = ['Energy Source Nuclear', 'Energy Source Coal, peat and oil shale', 'Energy Source Oil products', 'Energy Source Electricity', 'Energy Source Natural gas']
growth_df = pd.DataFrame(columns=['Year', 'Country', 'Energy Consumption per Capita'] + source_list)
rvalue_df = pd.DataFrame(columns=['Country', 'Source', 'R-Value', 'Strength', 'Direction'])


def calculate_growth(value, prev_value):
  if prev_value == 0:
    return np.nan
  else:
    growth = (value - prev_value) / prev_value * 100
    return growth


year_df_array = []

# For each unique year skipping the first year
for year in df['Year'].unique()[1:]:
  contry_df_array = []

  # For each unique country
  for country in df['Country'].unique():
    country_df = pd.DataFrame({ 'Country': country }, index=[0])

    # For each data column
    for column in ['Energy Consumption per Capita'] + source_list:
      # Get the value of the column for the given year and country
      value = df[(df['Year'] == year) & (df['Country'] == country)][column].values[0]

      # Get the value of the column for the previous year and country
      prev_value = df[(df['Year'] == year - 1) & (df['Country'] == country)][column].values[0]

      # Calculate the growth percentage
      growth = calculate_growth(value, prev_value)

      # Add the growth percentage to the country dataframe
      country_df[column] = growth

    contry_df_array.append(country_df)

  # Merge the country dataframes
  year_df = pd.concat(contry_df_array, ignore_index=True)

  # Add the year column
  year_df['Year'] = year

  # Reorder the columns
  year_df = year_df.reindex(columns=growth_df.columns)

  year_df_array.append(year_df)

# Merge the year dataframes
growth_df = pd.concat(year_df_array, ignore_index=True)
growth_df


# Get "Positive" or "Negative" based on the rvalue
def get_direction(value):
  if value > 0:
    return 'Positive'
  elif value < 0:
    return 'Negative'
  else:
    return np.nan


# Get "Weak", "Moderate" or "Strong" based on the rvalue
def get_strength(value):
  if abs(value) < 0.3:
    return 'Weak'
  elif abs(value) < 0.7:
    return 'Moderate'
  else:
    return 'Strong'


contry_df_array = []

# For each unique country in growth_df
for country in growth_df['Country'].unique():
  # Get the country data
  country_data_df = growth_df[growth_df['Country'] == country]

  source_df_array = []

  # For each column in source_list
  for column in source_list:
    # Get the rvalue per source
    rvalue = linregress(country_data_df['Energy Consumption per Capita'], country_data_df[column]).rvalue

    source_df = pd.DataFrame({ 'Country': country, 'Source': column, 'R-Value': rvalue, 'Direction': get_direction(rvalue), 'Strength': get_strength(rvalue) }, index=[0])
    source_df_array.append(source_df)

  country_df = pd.concat(source_df_array, ignore_index=True)

  contry_df_array.append(country_df)

rvalue_df = pd.concat(contry_df_array, ignore_index=True)
rvalue_df

