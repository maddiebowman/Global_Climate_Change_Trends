


# Dependencies and Setup
import pandas as pd
import os
import csv


# Study data files
energy_metadata_path = "Data/csv/Energy CO2 Emissions.csv"

# Path to input files
ece_input_file_path = os.path.join("Data/csv/Energy_CO2_Emissions.csv")

# Path to output files
ece_output_file_path = os.path.join( "Data/csv/Energy_CO2_Emissions_by_year_n_country.csv")

# Read the energyata and the study results
ece_df = pd.read_csv(energy_metadata_path)
ece_df





df_array = []

# Loop over the columns of the dataframe skipping the first column
for column in ece_df.columns[1:]:
    # Create a new dataframe with the country and the year
    cy_list = ece_df[['Country', column]].copy()

    # Adding a new column to the dataframe and positionong
    cy_list.insert(0, 'Year', column)

    #Rename for dataset
    cy_list.rename(columns={column: "Energy CO2 Emissions" }, inplace=True)

    # Adding the new dataframe to the array
    df_array.append(cy_list)

df_array
        


# Merge dfs 
merged_df = pd.concat(df_array, ignore_index=True)
merged_df

#Save csv
merged_df.to_csv(ece_output_file_path, index=False, header=True)





# Path to input files
World_data_file_path = os.path.join("Data/csv/World_Energy_Data.csv")

# Read the energyata and the study results
World_Data_df = pd.read_csv(World_data_file_path)#.query("Flow == Total_final_consumption")
World_Data_df



World_data_df = pd.DataFrame(World_Data_df)
World_data_df.head()


Total_consumption_Nuclear = World_data_df[(World_data_df["Flow"] == "Total_final_consumption") & (World_data_df["Product"] == "Nuclear")]
Total_consumption_Nuclear


Total_consumption_Coal = World_data_df[(World_data_df["Flow"] == "Total_final_consumption") & (World_data_df["Product"] == "Coal, peat and oil shale")]
Total_consumption_Coal


Total_consumption_Oil = World_data_df[(World_data_df["Flow"] == "Total_final_consumption") & (World_data_df["Product"] == "Oil products")]
Total_consumption_Oil


Total_consumption_Gas = World_data_df[(World_data_df["Flow"] == "Total_final_consumption") & (World_data_df["Product"] == "Natural gas")]
Total_consumption_Gas


Total_consumption_Electricity = World_data_df[(World_data_df["Flow"] == "Total_final_consumption") & (World_data_df["Product"] == "Electricity")]
Total_consumption_Electricity


Total = pd.concat([Total_consumption_Nuclear,Total_consumption_Coal,Total_consumption_Oil,Total_consumption_Electricity,Total_consumption_Gas],ignore_index=True,sort=False)

Total


Total = pd.concat([Total_consumption_Nuclear,Total_consumption_Coal,Total_consumption_Oil,Total_consumption_Electricity,Total_consumption_Gas],ignore_index=True,sort=False)
Total.to_csv('out.csv',index=False)





# Study data files
#energy_metadata_path = "Data/csv/owid-energy-data.csv"

# Read the energyata and the study results
owid_energy_data = pd.read_csv(energy_metadata_path)#.set_index(["country"])["year"]
owid_energy_data



# Loop over countries
for column in owid_energy_data:
   print(column)

#data = {'country':[1],'year':[2000]}
#df = pd.DataFrame(data)

#transposed_df = df.transpose()

#print("OriginalDataFrame:")
#print(df)

#print("\nTransposed DtaFrame:")
#print(transposed_df)



