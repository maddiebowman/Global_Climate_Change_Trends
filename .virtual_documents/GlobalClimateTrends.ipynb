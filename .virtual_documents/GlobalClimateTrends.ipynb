


# Dependencies and Setup
import pandas as pd
import os
import csv
import matplotlib.pyplot as plt
import scipy.stats as st


# Path to file
per_capita_file_path = "Data/csv/energy_consumption_per_capita.csv"

# Path to input files
pecc_input_file_path = os.path.join(per_capita_file_path)

# Path to output files
pecc_output_file_path = os.path.join("Data/csv/primary_energy_consumption_capita_by_year_n_country.csv")

capita_df = pd.read_csv(pecc_input_file_path)
capita_df


df_array = []

# Loop over the columns of the dataframe skipping the first column
for column in capita_df.columns[1:]:
    # Create a new dataframe with the country and the year
    cy_list = capita_df[['Country', column]].copy()

    # Adding a new column to the dataframe and positionong
    cy_list.insert(0, 'Year', column)

    #Rename for dataset
    cy_list.rename(columns={column: 'Primary Energy Consumption per Capita'}, inplace=True)

    # Adding the new dataframe to the array
    df_array.append(cy_list)

df_array


# Merge dfs 
merged_capita_df = pd.concat(df_array, ignore_index=True)
merged_capita_df

#Save csv
merged_capita_df.to_csv(pecc_output_file_path, index=False, header=True)






