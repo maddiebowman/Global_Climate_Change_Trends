{
 "cells": [
  {
   "cell_type": "markdown",
   "id": "14e40ccd-24db-4944-abf3-3496e4153729",
   "metadata": {},
   "source": [
    "#Global Climate Trends\n",
    "\n",
    "##Analysis\n"
   ]
  },
  {
   "cell_type": "code",
   "execution_count": 12,
   "id": "c7ebe702-960d-4c0e-9cc1-c9b239e6803d",
   "metadata": {},
   "outputs": [],
   "source": [
    "# Dependencies and Setup\n",
    "import pandas as pd\n",
    "import os\n",
    "import csv\n",
    "import matplotlib.pyplot as plt\n",
    "import scipy.stats as st\n",
    "import numpy as np\n",
    "from scipy.stats import linregress"
   ]
  },
  {
   "cell_type": "code",
   "execution_count": 19,
   "id": "299ba03f",
   "metadata": {},
   "outputs": [],
   "source": [
    "# Folder paths\n",
    "input_folder = os.path.join('input')\n",
    "output_folder = os.path.join('output')"
   ]
  },
  {
   "cell_type": "code",
   "execution_count": 20,
   "id": "b5b44450-f213-4462-bf9f-1a1a5ca79d46",
   "metadata": {
    "scrolled": true
   },
   "outputs": [],
   "source": [
    "def process_file(file_name, column_name):\n",
    "    # Create array to store data for merging\n",
    "    df_array = []\n",
    "\n",
    "    # Read the csv file\n",
    "    input_df = pd.read_csv(os.path.join(input_folder, file_name))\n",
    "\n",
    "    # Loop over the columns of the dataframe skipping the first column\n",
    "    for column in input_df.columns[1:]:\n",
    "        # Create a new dataframe with the country and the year\n",
    "        temp_df = input_df[['Country', column]].copy()\n",
    "\n",
    "        # Adding a new column to the dataframe and positionong\n",
    "        temp_df.insert(0, 'Year', column)\n",
    "\n",
    "        # Rename for column\n",
    "        temp_df.rename(columns={column: column_name}, inplace=True)\n",
    "\n",
    "        # Adding the new dataframe to the array\n",
    "        df_array.append(temp_df)\n",
    "\n",
    "    return pd.concat(df_array, ignore_index=True)"
   ]
  },
  {
   "cell_type": "code",
   "execution_count": 21,
   "id": "b7f9d7f4-b1c3-44ad-8692-36a493ee6f30",
   "metadata": {
    "scrolled": true
   },
   "outputs": [],
   "source": [
    "def merge_dfs(dfs, column_list):\n",
    "    # Store the first dataframe as initial value\n",
    "    merged_df = dfs[0]\n",
    "\n",
    "    # Loop over the dataframes starting from the second place in the array - always the 2nd, regardless of the df\n",
    "    for df in dfs[1:]:\n",
    "        # Merge the dataframes\n",
    "        merged_df = pd.merge(merged_df, df, on=column_list, how='outer')\n",
    "\n",
    "    # Return the merged dataframe\n",
    "    return merged_df"
   ]
  },
  {
   "cell_type": "code",
   "execution_count": 22,
   "id": "f0e1b3c0-4c10-400f-b7e5-ca1d5c2fad27",
   "metadata": {},
   "outputs": [
    {
     "ename": "FileNotFoundError",
     "evalue": "[Errno 2] No such file or directory: 'input/primary_energy_consumption.csv'",
     "output_type": "error",
     "traceback": [
      "\u001b[0;31m---------------------------------------------------------------------------\u001b[0m",
      "\u001b[0;31mFileNotFoundError\u001b[0m                         Traceback (most recent call last)",
      "Cell \u001b[0;32mIn[22], line 2\u001b[0m\n\u001b[1;32m      1\u001b[0m dfs \u001b[38;5;241m=\u001b[39m [\n\u001b[0;32m----> 2\u001b[0m     process_file(\u001b[38;5;124m'\u001b[39m\u001b[38;5;124mprimary_energy_consumption.csv\u001b[39m\u001b[38;5;124m'\u001b[39m, \u001b[38;5;124m'\u001b[39m\u001b[38;5;124mPrimary Energy Consumption\u001b[39m\u001b[38;5;124m'\u001b[39m),\n\u001b[1;32m      3\u001b[0m     process_file(\u001b[38;5;124m'\u001b[39m\u001b[38;5;124menergy_consumption_per_capita.csv\u001b[39m\u001b[38;5;124m'\u001b[39m, \u001b[38;5;124m'\u001b[39m\u001b[38;5;124mEnergy Consumption per Capita\u001b[39m\u001b[38;5;124m'\u001b[39m),\n\u001b[1;32m      4\u001b[0m     process_file(\u001b[38;5;124m'\u001b[39m\u001b[38;5;124mco2_emissions.csv\u001b[39m\u001b[38;5;124m'\u001b[39m, \u001b[38;5;124m'\u001b[39m\u001b[38;5;124mCO2 Emissions\u001b[39m\u001b[38;5;124m'\u001b[39m),\n\u001b[1;32m      5\u001b[0m ]\n\u001b[1;32m      7\u001b[0m merged_dfs \u001b[38;5;241m=\u001b[39m merge_dfs(dfs, [\u001b[38;5;124m'\u001b[39m\u001b[38;5;124mCountry\u001b[39m\u001b[38;5;124m'\u001b[39m, \u001b[38;5;124m'\u001b[39m\u001b[38;5;124mYear\u001b[39m\u001b[38;5;124m'\u001b[39m])\n\u001b[1;32m      8\u001b[0m merged_dfs\n",
      "Cell \u001b[0;32mIn[20], line 6\u001b[0m, in \u001b[0;36mprocess_file\u001b[0;34m(file_name, column_name)\u001b[0m\n\u001b[1;32m      3\u001b[0m df_array \u001b[38;5;241m=\u001b[39m []\n\u001b[1;32m      5\u001b[0m \u001b[38;5;66;03m# Read the csv file\u001b[39;00m\n\u001b[0;32m----> 6\u001b[0m input_df \u001b[38;5;241m=\u001b[39m pd\u001b[38;5;241m.\u001b[39mread_csv(os\u001b[38;5;241m.\u001b[39mpath\u001b[38;5;241m.\u001b[39mjoin(input_folder, file_name))\n\u001b[1;32m      8\u001b[0m \u001b[38;5;66;03m# Loop over the columns of the dataframe skipping the first column\u001b[39;00m\n\u001b[1;32m      9\u001b[0m \u001b[38;5;28;01mfor\u001b[39;00m column \u001b[38;5;129;01min\u001b[39;00m input_df\u001b[38;5;241m.\u001b[39mcolumns[\u001b[38;5;241m1\u001b[39m:]:\n\u001b[1;32m     10\u001b[0m     \u001b[38;5;66;03m# Create a new dataframe with the country and the year\u001b[39;00m\n",
      "File \u001b[0;32m~/anaconda3/lib/python3.11/site-packages/pandas/io/parsers/readers.py:948\u001b[0m, in \u001b[0;36mread_csv\u001b[0;34m(filepath_or_buffer, sep, delimiter, header, names, index_col, usecols, dtype, engine, converters, true_values, false_values, skipinitialspace, skiprows, skipfooter, nrows, na_values, keep_default_na, na_filter, verbose, skip_blank_lines, parse_dates, infer_datetime_format, keep_date_col, date_parser, date_format, dayfirst, cache_dates, iterator, chunksize, compression, thousands, decimal, lineterminator, quotechar, quoting, doublequote, escapechar, comment, encoding, encoding_errors, dialect, on_bad_lines, delim_whitespace, low_memory, memory_map, float_precision, storage_options, dtype_backend)\u001b[0m\n\u001b[1;32m    935\u001b[0m kwds_defaults \u001b[38;5;241m=\u001b[39m _refine_defaults_read(\n\u001b[1;32m    936\u001b[0m     dialect,\n\u001b[1;32m    937\u001b[0m     delimiter,\n\u001b[0;32m   (...)\u001b[0m\n\u001b[1;32m    944\u001b[0m     dtype_backend\u001b[38;5;241m=\u001b[39mdtype_backend,\n\u001b[1;32m    945\u001b[0m )\n\u001b[1;32m    946\u001b[0m kwds\u001b[38;5;241m.\u001b[39mupdate(kwds_defaults)\n\u001b[0;32m--> 948\u001b[0m \u001b[38;5;28;01mreturn\u001b[39;00m _read(filepath_or_buffer, kwds)\n",
      "File \u001b[0;32m~/anaconda3/lib/python3.11/site-packages/pandas/io/parsers/readers.py:611\u001b[0m, in \u001b[0;36m_read\u001b[0;34m(filepath_or_buffer, kwds)\u001b[0m\n\u001b[1;32m    608\u001b[0m _validate_names(kwds\u001b[38;5;241m.\u001b[39mget(\u001b[38;5;124m\"\u001b[39m\u001b[38;5;124mnames\u001b[39m\u001b[38;5;124m\"\u001b[39m, \u001b[38;5;28;01mNone\u001b[39;00m))\n\u001b[1;32m    610\u001b[0m \u001b[38;5;66;03m# Create the parser.\u001b[39;00m\n\u001b[0;32m--> 611\u001b[0m parser \u001b[38;5;241m=\u001b[39m TextFileReader(filepath_or_buffer, \u001b[38;5;241m*\u001b[39m\u001b[38;5;241m*\u001b[39mkwds)\n\u001b[1;32m    613\u001b[0m \u001b[38;5;28;01mif\u001b[39;00m chunksize \u001b[38;5;129;01mor\u001b[39;00m iterator:\n\u001b[1;32m    614\u001b[0m     \u001b[38;5;28;01mreturn\u001b[39;00m parser\n",
      "File \u001b[0;32m~/anaconda3/lib/python3.11/site-packages/pandas/io/parsers/readers.py:1448\u001b[0m, in \u001b[0;36mTextFileReader.__init__\u001b[0;34m(self, f, engine, **kwds)\u001b[0m\n\u001b[1;32m   1445\u001b[0m     \u001b[38;5;28mself\u001b[39m\u001b[38;5;241m.\u001b[39moptions[\u001b[38;5;124m\"\u001b[39m\u001b[38;5;124mhas_index_names\u001b[39m\u001b[38;5;124m\"\u001b[39m] \u001b[38;5;241m=\u001b[39m kwds[\u001b[38;5;124m\"\u001b[39m\u001b[38;5;124mhas_index_names\u001b[39m\u001b[38;5;124m\"\u001b[39m]\n\u001b[1;32m   1447\u001b[0m \u001b[38;5;28mself\u001b[39m\u001b[38;5;241m.\u001b[39mhandles: IOHandles \u001b[38;5;241m|\u001b[39m \u001b[38;5;28;01mNone\u001b[39;00m \u001b[38;5;241m=\u001b[39m \u001b[38;5;28;01mNone\u001b[39;00m\n\u001b[0;32m-> 1448\u001b[0m \u001b[38;5;28mself\u001b[39m\u001b[38;5;241m.\u001b[39m_engine \u001b[38;5;241m=\u001b[39m \u001b[38;5;28mself\u001b[39m\u001b[38;5;241m.\u001b[39m_make_engine(f, \u001b[38;5;28mself\u001b[39m\u001b[38;5;241m.\u001b[39mengine)\n",
      "File \u001b[0;32m~/anaconda3/lib/python3.11/site-packages/pandas/io/parsers/readers.py:1705\u001b[0m, in \u001b[0;36mTextFileReader._make_engine\u001b[0;34m(self, f, engine)\u001b[0m\n\u001b[1;32m   1703\u001b[0m     \u001b[38;5;28;01mif\u001b[39;00m \u001b[38;5;124m\"\u001b[39m\u001b[38;5;124mb\u001b[39m\u001b[38;5;124m\"\u001b[39m \u001b[38;5;129;01mnot\u001b[39;00m \u001b[38;5;129;01min\u001b[39;00m mode:\n\u001b[1;32m   1704\u001b[0m         mode \u001b[38;5;241m+\u001b[39m\u001b[38;5;241m=\u001b[39m \u001b[38;5;124m\"\u001b[39m\u001b[38;5;124mb\u001b[39m\u001b[38;5;124m\"\u001b[39m\n\u001b[0;32m-> 1705\u001b[0m \u001b[38;5;28mself\u001b[39m\u001b[38;5;241m.\u001b[39mhandles \u001b[38;5;241m=\u001b[39m get_handle(\n\u001b[1;32m   1706\u001b[0m     f,\n\u001b[1;32m   1707\u001b[0m     mode,\n\u001b[1;32m   1708\u001b[0m     encoding\u001b[38;5;241m=\u001b[39m\u001b[38;5;28mself\u001b[39m\u001b[38;5;241m.\u001b[39moptions\u001b[38;5;241m.\u001b[39mget(\u001b[38;5;124m\"\u001b[39m\u001b[38;5;124mencoding\u001b[39m\u001b[38;5;124m\"\u001b[39m, \u001b[38;5;28;01mNone\u001b[39;00m),\n\u001b[1;32m   1709\u001b[0m     compression\u001b[38;5;241m=\u001b[39m\u001b[38;5;28mself\u001b[39m\u001b[38;5;241m.\u001b[39moptions\u001b[38;5;241m.\u001b[39mget(\u001b[38;5;124m\"\u001b[39m\u001b[38;5;124mcompression\u001b[39m\u001b[38;5;124m\"\u001b[39m, \u001b[38;5;28;01mNone\u001b[39;00m),\n\u001b[1;32m   1710\u001b[0m     memory_map\u001b[38;5;241m=\u001b[39m\u001b[38;5;28mself\u001b[39m\u001b[38;5;241m.\u001b[39moptions\u001b[38;5;241m.\u001b[39mget(\u001b[38;5;124m\"\u001b[39m\u001b[38;5;124mmemory_map\u001b[39m\u001b[38;5;124m\"\u001b[39m, \u001b[38;5;28;01mFalse\u001b[39;00m),\n\u001b[1;32m   1711\u001b[0m     is_text\u001b[38;5;241m=\u001b[39mis_text,\n\u001b[1;32m   1712\u001b[0m     errors\u001b[38;5;241m=\u001b[39m\u001b[38;5;28mself\u001b[39m\u001b[38;5;241m.\u001b[39moptions\u001b[38;5;241m.\u001b[39mget(\u001b[38;5;124m\"\u001b[39m\u001b[38;5;124mencoding_errors\u001b[39m\u001b[38;5;124m\"\u001b[39m, \u001b[38;5;124m\"\u001b[39m\u001b[38;5;124mstrict\u001b[39m\u001b[38;5;124m\"\u001b[39m),\n\u001b[1;32m   1713\u001b[0m     storage_options\u001b[38;5;241m=\u001b[39m\u001b[38;5;28mself\u001b[39m\u001b[38;5;241m.\u001b[39moptions\u001b[38;5;241m.\u001b[39mget(\u001b[38;5;124m\"\u001b[39m\u001b[38;5;124mstorage_options\u001b[39m\u001b[38;5;124m\"\u001b[39m, \u001b[38;5;28;01mNone\u001b[39;00m),\n\u001b[1;32m   1714\u001b[0m )\n\u001b[1;32m   1715\u001b[0m \u001b[38;5;28;01massert\u001b[39;00m \u001b[38;5;28mself\u001b[39m\u001b[38;5;241m.\u001b[39mhandles \u001b[38;5;129;01mis\u001b[39;00m \u001b[38;5;129;01mnot\u001b[39;00m \u001b[38;5;28;01mNone\u001b[39;00m\n\u001b[1;32m   1716\u001b[0m f \u001b[38;5;241m=\u001b[39m \u001b[38;5;28mself\u001b[39m\u001b[38;5;241m.\u001b[39mhandles\u001b[38;5;241m.\u001b[39mhandle\n",
      "File \u001b[0;32m~/anaconda3/lib/python3.11/site-packages/pandas/io/common.py:863\u001b[0m, in \u001b[0;36mget_handle\u001b[0;34m(path_or_buf, mode, encoding, compression, memory_map, is_text, errors, storage_options)\u001b[0m\n\u001b[1;32m    858\u001b[0m \u001b[38;5;28;01melif\u001b[39;00m \u001b[38;5;28misinstance\u001b[39m(handle, \u001b[38;5;28mstr\u001b[39m):\n\u001b[1;32m    859\u001b[0m     \u001b[38;5;66;03m# Check whether the filename is to be opened in binary mode.\u001b[39;00m\n\u001b[1;32m    860\u001b[0m     \u001b[38;5;66;03m# Binary mode does not support 'encoding' and 'newline'.\u001b[39;00m\n\u001b[1;32m    861\u001b[0m     \u001b[38;5;28;01mif\u001b[39;00m ioargs\u001b[38;5;241m.\u001b[39mencoding \u001b[38;5;129;01mand\u001b[39;00m \u001b[38;5;124m\"\u001b[39m\u001b[38;5;124mb\u001b[39m\u001b[38;5;124m\"\u001b[39m \u001b[38;5;129;01mnot\u001b[39;00m \u001b[38;5;129;01min\u001b[39;00m ioargs\u001b[38;5;241m.\u001b[39mmode:\n\u001b[1;32m    862\u001b[0m         \u001b[38;5;66;03m# Encoding\u001b[39;00m\n\u001b[0;32m--> 863\u001b[0m         handle \u001b[38;5;241m=\u001b[39m \u001b[38;5;28mopen\u001b[39m(\n\u001b[1;32m    864\u001b[0m             handle,\n\u001b[1;32m    865\u001b[0m             ioargs\u001b[38;5;241m.\u001b[39mmode,\n\u001b[1;32m    866\u001b[0m             encoding\u001b[38;5;241m=\u001b[39mioargs\u001b[38;5;241m.\u001b[39mencoding,\n\u001b[1;32m    867\u001b[0m             errors\u001b[38;5;241m=\u001b[39merrors,\n\u001b[1;32m    868\u001b[0m             newline\u001b[38;5;241m=\u001b[39m\u001b[38;5;124m\"\u001b[39m\u001b[38;5;124m\"\u001b[39m,\n\u001b[1;32m    869\u001b[0m         )\n\u001b[1;32m    870\u001b[0m     \u001b[38;5;28;01melse\u001b[39;00m:\n\u001b[1;32m    871\u001b[0m         \u001b[38;5;66;03m# Binary mode\u001b[39;00m\n\u001b[1;32m    872\u001b[0m         handle \u001b[38;5;241m=\u001b[39m \u001b[38;5;28mopen\u001b[39m(handle, ioargs\u001b[38;5;241m.\u001b[39mmode)\n",
      "\u001b[0;31mFileNotFoundError\u001b[0m: [Errno 2] No such file or directory: 'input/primary_energy_consumption.csv'"
     ]
    }
   ],
   "source": [
    "dfs = [\n",
    "    process_file('primary_energy_consumption.csv', 'Primary Energy Consumption'),\n",
    "    process_file('energy_consumption_per_capita.csv', 'Energy Consumption per Capita'),\n",
    "    process_file('co2_emissions.csv', 'CO2 Emissions'),\n",
    "]\n",
    "\n",
    "merged_dfs = merge_dfs(dfs, ['Country', 'Year'])\n",
    "merged_dfs"
   ]
  },
  {
   "cell_type": "code",
   "execution_count": null,
   "id": "a46f0b39",
   "metadata": {},
   "outputs": [],
   "source": [
    "# Read the energy data per source\n",
    "energy_source_df = pd.read_csv(os.path.join(input_folder, 'energy_consumption_by_source.csv'))\n",
    "energy_source_df"
   ]
  },
  {
   "cell_type": "code",
   "execution_count": null,
   "id": "5f2c61d6",
   "metadata": {},
   "outputs": [],
   "source": [
    "# Create an array to store the dataframes\n",
    "df_energy_source_array = []\n",
    "\n",
    "# Loop over unique values in the column \"Product\"\n",
    "for product in energy_source_df['Product'].unique():\n",
    "\n",
    "    # Create an array to store the temporary dataframes\n",
    "    df_array = []\n",
    "\n",
    "    # Loop over the columns of the dataframe skipping the first 3 columns\n",
    "    for column in energy_source_df.columns[3:]:\n",
    "        \n",
    "        # Filter the dataframe where column \"Product\" is equal to the product\n",
    "        filtered_df = energy_source_df[energy_source_df['Product'] == product]\n",
    "\n",
    "        # Create a new dataframe with the country and the year\n",
    "        temp_df = filtered_df[['Country', column]].copy()\n",
    "\n",
    "        # Add a new \"Year\" column to the dataframe\n",
    "        temp_df.insert(0, 'Year', column)\n",
    "            \n",
    "        # Rename the value column\n",
    "        temp_df.rename(columns={column: f'Energy Source {product}'}, inplace=True)\n",
    "\n",
    "        # Adding the new dataframe to the array\n",
    "        df_array.append(temp_df)\n",
    "\n",
    "    # Concatenate the dataframes in the array\n",
    "    df_merged = pd.concat(df_array, ignore_index=True)\n",
    "\n",
    "    # Append the dataframe to the final array\n",
    "    df_energy_source_array.append(df_merged)\n",
    "\n",
    "# Merge the dataframes\n",
    "merged_energy_source_df = merge_dfs(df_energy_source_array, ['Country', 'Year'])\n",
    "merged_energy_source_df\n"
   ]
  },
  {
   "cell_type": "code",
   "execution_count": null,
   "id": "fc7735b8",
   "metadata": {},
   "outputs": [],
   "source": [
    "# Find overlapping values in column between the two dataframes\n",
    "def find_overlap(dfs, column):\n",
    "    # Create a set to store the unique values of the first dataframe\n",
    "    unique_values = set(dfs[0][column].unique())\n",
    "\n",
    "    # Loop over the dataframes starting from the second place in the array\n",
    "    for df in dfs[1:]:\n",
    "        # Update the set with the unique values of the current dataframe\n",
    "        unique_values = unique_values.intersection(df[column].unique())\n",
    "\n",
    "    # Return the set\n",
    "    return unique_values\n"
   ]
  },
  {
   "cell_type": "code",
   "execution_count": null,
   "id": "afcbc10d",
   "metadata": {},
   "outputs": [],
   "source": [
    "# Filter the dataframe to keep only values in the list per column\n",
    "def filter_df(df, column, values):\n",
    "    # Return the filtered dataframe\n",
    "    return df[df[column].isin(values)]"
   ]
  },
  {
   "cell_type": "code",
   "execution_count": 18,
   "id": "0c5c26b9",
   "metadata": {},
   "outputs": [
    {
     "ename": "NameError",
     "evalue": "name 'find_overlap' is not defined",
     "output_type": "error",
     "traceback": [
      "\u001b[0;31m---------------------------------------------------------------------------\u001b[0m",
      "\u001b[0;31mNameError\u001b[0m                                 Traceback (most recent call last)",
      "Cell \u001b[0;32mIn[18], line 2\u001b[0m\n\u001b[1;32m      1\u001b[0m \u001b[38;5;66;03m# Find year and country intersection between the two dataframes\u001b[39;00m\n\u001b[0;32m----> 2\u001b[0m years \u001b[38;5;241m=\u001b[39m find_overlap([merged_dfs, merged_energy_source_df], \u001b[38;5;124m'\u001b[39m\u001b[38;5;124mYear\u001b[39m\u001b[38;5;124m'\u001b[39m)\n\u001b[1;32m      3\u001b[0m countries \u001b[38;5;241m=\u001b[39m find_overlap([merged_dfs, merged_energy_source_df], \u001b[38;5;124m'\u001b[39m\u001b[38;5;124mCountry\u001b[39m\u001b[38;5;124m'\u001b[39m)\n\u001b[1;32m      5\u001b[0m \u001b[38;5;66;03m# Filter the dataframes\u001b[39;00m\n",
      "\u001b[0;31mNameError\u001b[0m: name 'find_overlap' is not defined"
     ]
    }
   ],
   "source": [
    "# Find year and country intersection between the two dataframes\n",
    "years = find_overlap([merged_dfs, merged_energy_source_df], 'Year')\n",
    "countries = find_overlap([merged_dfs, merged_energy_source_df], 'Country')\n",
    "\n",
    "# Filter the dataframes\n",
    "filtered_df = filter_df(filter_df(merged_dfs, 'Year', years), 'Country', countries)\n",
    "filtered_energy_source_df = filter_df(filter_df(merged_energy_source_df, 'Year', years), 'Country', countries)\n",
    "\n",
    "# Merge the dataframes based on year and country\n",
    "final_df = pd.merge(filtered_df, filtered_energy_source_df, on=['Country', 'Year'], how='outer')\n",
    "\n",
    "# Write the final dataframe to a csv file\n",
    "final_df.to_csv(os.path.join(output_folder, 'final_data.csv'), index=False)\n",
    "\n",
    "final_df\n"
   ]
  },
  {
   "cell_type": "markdown",
   "id": "45346fdf-db6c-4a19-890e-a3157c8cce52",
   "metadata": {},
   "source": [
    "## What are the projected carbon footprints of countries in the next 10-20 years, considering population growth and the distribution of energy sources?"
   ]
  },
  {
   "cell_type": "code",
   "execution_count": null,
   "id": "5e67a270-ab1e-49ff-bee4-17f9b625c5a1",
   "metadata": {
    "scrolled": true
   },
   "outputs": [],
   "source": [
    "# Get count of countries\n",
    "country_counts = final_df['Country'].value_counts()\n",
    "\n",
    "# Print each unique country\n",
    "for country, count in country_counts.items():\n",
    "    print(country)\n",
    "\n",
    "# List the total number of unique countries\n",
    "total_countries = len(country_counts)\n",
    "print(f'Total number of unique countries: {total_countries}')"
   ]
  },
  {
   "cell_type": "code",
   "execution_count": null,
   "id": "b8cd017f-ee24-4cbc-99e9-b262b13bf55c",
   "metadata": {
    "scrolled": true
   },
   "outputs": [],
   "source": [
    "# Calculate total energy consumption per capita over time\n",
    "average_energy_consumption_per_capita = final_df.groupby('Year')['Energy Consumption per Capita'].mean()\n",
    "\n",
    "# Print \n",
    "print(f'Year | Average Energy Consumption per Capita {total_energy_consumption}')"
   ]
  },
  {
   "cell_type": "code",
   "execution_count": null,
   "id": "e755b09f-e940-40c0-baf0-ddde76b1d6a6",
   "metadata": {
    "scrolled": true
   },
   "outputs": [],
   "source": [
    "# Calculate percentage change of energy use per capita over the years\n",
    "average_energy_consumption_per_capita_shifted = average_energy_consumption_per_capita.shift(1)\n",
    "percentage_change = ((average_energy_consumption_per_capita - average_energy_consumption_per_capita_shifted) / average_energy_consumption_per_capita_shifted) * 100\n",
    "\n",
    "# Combine average energy consumption per capita and percentage change into a new DataFrame with percentages\n",
    "average_energy_df = pd.DataFrame({\n",
    "    'Average Annual Percentage Change of Energy Use per Capita': percentage_change.map(\"{:.2f}%\".format)\n",
    "})\n",
    "\n",
    "# Print the average energy consumption per capita percentage change over time\n",
    "print(average_energy_df)"
   ]
  },
  {
   "cell_type": "code",
   "execution_count": null,
   "id": "16aa10c0-75d1-4a97-8649-dab8341338e1",
   "metadata": {},
   "outputs": [],
   "source": [
    "# Analyze and compare CO2 emissions and energy consumption\n",
    "\n",
    "# Convert to numerical values to avoid error\n",
    "final_df['CO2 Emissions'] = pd.to_numeric(final_df['CO2 Emissions'], errors='coerce')\n",
    "final_df['Primary Energy Consumption'] = pd.to_numeric(final_df['Primary Energy Consumption'], errors='coerce')\n",
    "\n",
    "# Define columns for comparison\n",
    "co2_emissions = final_df['CO2 Emissions']\n",
    "energy_consumption = final_df['Primary Energy Consumption']\n",
    "\n",
    "# Solve for correlation of CO2 emission and average energy consumption, print out result\n",
    "consumption_emissions_corr = co2_emissions.corr(energy_consumption)\n",
    "print(f\"Correlation between CO2 emissions and energy consumption: {consumption_emissions_corr}\")"
   ]
  },
  {
   "cell_type": "markdown",
   "id": "22610ae3-34e2-4f25-bdf1-9c5d129a3be6",
   "metadata": {},
   "source": [
    "CO2 emissions and energy consumption have a very strong positive correlation. This indicates that there is a strong linear relationship between CO2 emissions and energy consumption. In practical terms, this means that as energy consumption increases, CO2 emissions tend to increase as well."
   ]
  },
  {
   "cell_type": "code",
   "execution_count": null,
   "id": "916f7c8e-a307-41fa-a058-69745cee58ac",
   "metadata": {},
   "outputs": [],
   "source": [
    "# Create graph to visualize correlation between energy consumption and CO2 emission\n",
    "consumption_emissions_corr = co2_emissions.corr(energy_consumption)\n",
    "\n",
    "slope, intercept, rvalue, pvalue, stderr = linregress(energy_consumption, co2_emissions)\n",
    "\n",
    "plt.scatter(energy_consumption, co2_emissions, s=2)\n",
    "plt.plot(energy_consumption, slope * energy_consumption + intercept, color = 'red')\n",
    "\n",
    "plt.xlabel('Energy Consumption (exajoules)')\n",
    "plt.ylabel('CO2 Emissions (million tonnes of carbon)')\n",
    "plt.grid(True)\n",
    "\n",
    "print(f\"Correlation between CO2 emissions and energy consumption: {consumption_emissions_corr}\")\n",
    "plt.show()"
   ]
  },
  {
   "cell_type": "code",
   "execution_count": null,
   "id": "eb207060-e513-433c-b970-431103591a3a",
   "metadata": {},
   "outputs": [],
   "source": [
    "# Analyze and compare CO2 emissions and energy consumption per capita\n",
    "\n",
    "# Convert to numerical value\n",
    "final_df['CO2 Emissions'] = pd.to_numeric(final_df['CO2 Emissions'], errors='coerce')\n",
    "final_df['Energy Consumption per Capita'] = pd.to_numeric(final_df['Energy Consumption per Capita'], errors='coerce')\n",
    "\n",
    "# Define columns for comparison\n",
    "co2_emissions = final_df['CO2 Emissions']\n",
    "energy_consumption_per_capita = final_df['Energy Consumption per Capita']\n",
    "\n",
    "# Calculate correlation\n",
    "capita_emissions_corr = co2_emissions.corr(energy_consumption_per_capita)\n",
    "print(f\"Correlation between CO2 emissions and energy consumption per capita: {capita_emissions_corr}\")"
   ]
  },
  {
   "cell_type": "markdown",
   "id": "f9737414-a45b-4142-824f-ebc5dcc2271c",
   "metadata": {},
   "source": [
    "CO2 emissions and energy consumption per capita have an extremely weak positive correlation."
   ]
  },
  {
   "cell_type": "code",
   "execution_count": null,
   "id": "0c32d39f-b19e-40bd-b69c-02dacdf901b4",
   "metadata": {},
   "outputs": [],
   "source": [
    "# Create graph to visualize correlation between CO2 emissions and energy consumption per capita\n",
    "capita_emissions_corr = co2_emissions.corr(energy_consumption_per_capita)\n",
    "\n",
    "slope, intercept, rvalue, pvalue, stderr = linregress(energy_consumption_per_capita, co2_emissions)\n",
    "\n",
    "plt.scatter(energy_consumption_per_capita, co2_emissions, s=1)\n",
    "plt.plot(energy_consumption_per_capita, slope * energy_consumption_per_capita + intercept, color = 'red')\n",
    "\n",
    "plt.xlabel('Energy Consumption per Capita (gigajoules)')\n",
    "plt.ylabel('CO2 Emissions (million tonnes of carbon)')\n",
    "plt.grid(True)\n",
    "\n",
    "print(f\"Correlation between CO2 emissions and energy consumption per capita: {capita_emissions_corr}\")\n",
    "plt.show()"
   ]
  },
  {
   "cell_type": "code",
   "execution_count": null,
   "id": "ed0832d3-1b6d-4155-8ea9-e1f7e6826755",
   "metadata": {
    "scrolled": true
   },
   "outputs": [],
   "source": [
    "# Group by Year and calculate the average energy consumption per each energy source\n",
    "average_energy_per_source_by_year = final_df.groupby('Year').agg({\n",
    "    'Energy Source Nuclear': 'mean',\n",
    "    'Energy Source Coal, peat and oil shale': 'mean',\n",
    "    'Energy Source Oil products': 'mean',\n",
    "    'Energy Source Electricity': 'mean',\n",
    "    'Energy Source Natural gas': 'mean'\n",
    "})\n",
    "\n",
    "# Find the most common energy source for each year based on the largest unit\n",
    "most_common_energy_source_per_year = average_energy_per_source_by_year.idxmax(axis=1)\n",
    "\n",
    "# Print or visualize the average energy consumption per each energy source by year and the most common energy source for each year\n",
    "print(\"Average Energy Consumption per Each Energy Source by Year:\")\n",
    "print(average_energy_per_source_by_year)\n",
    "print(\"\\nMost Common Energy Source for Each Year:\")\n",
    "print(most_common_energy_source_per_year)"
   ]
  },
  {
   "cell_type": "code",
   "execution_count": null,
   "id": "7fde7588-b53e-49eb-b0c5-030d95c62018",
   "metadata": {},
   "outputs": [],
   "source": [
    "# Plotting the data\n",
    "average_energy_per_source_by_year.plot(kind='line', marker='o', figsize=(10, 6))\n",
    "plt.title('Average Energy Consumption by Source Type Over 30 Years')\n",
    "plt.xlabel('Year')\n",
    "plt.ylabel('Average Energy Consumption (Gigajoules)')\n",
    "plt.grid(True)\n",
    "plt.legend(title='Energy Source')\n",
    "plt.tight_layout()\n",
    "plt.show()"
   ]
  },
  {
   "cell_type": "code",
   "execution_count": null,
   "id": "36967388-edb8-463e-87f7-ad9e1f1fac59",
   "metadata": {},
   "outputs": [],
   "source": [
    "# Set the figure size\n",
    "plt.figure(figsize=(12, 8))\n",
    "\n",
    "# Iterate over each energy source to create nested bar plot \n",
    "for col in average_energy_per_source_by_year.columns:\n",
    "    plt.bar(average_energy_per_source_by_year.index, average_energy_per_source_by_year[col], label=col)\n",
    "\n",
    "# Add labels and title\n",
    "plt.xlabel('Year')\n",
    "plt.ylabel('Total Energy Consumed (Gigajoules)')\n",
    "plt.title('Total Energy Consumption by Energy Source per Year')\n",
    "plt.xticks(average_energy_per_source_by_year.index, fontsize=6)  \n",
    "plt.legend()  \n",
    "\n",
    "# Display the plot\n",
    "plt.show()"
   ]
  },
  {
   "cell_type": "code",
   "execution_count": null,
   "id": "7c8642b2-a8b0-4cbf-9762-1bf5ff120ffd",
   "metadata": {},
   "outputs": [],
   "source": []
  },
  {
   "cell_type": "markdown",
   "id": "f219a408",
   "metadata": {},
   "source": [
    "## Does an increase in population impact the distribution of energy sources among specific countries?\n"
   ]
  },
  {
   "cell_type": "code",
   "execution_count": null,
   "id": "10e05e04",
   "metadata": {},
   "outputs": [],
   "source": [
    "# We can answer this question by calculating the percentage of growth in population for each country \n",
    "# over the years and then analyzing the distribution of energy sources among those countries.\n",
    "\n",
    "# Calculate the population for each country and year using a loop\n",
    "#Array of DataFrames\n",
    "population_df = []\n",
    "\n",
    "#Loop to calculate % growth of poulation per country\n",
    "for country in final_df['Country'].unique():\n",
    "\n",
    "    country_df = final_df[final_df['Country'] == country].copy()\n",
    "    country_df['Population Growth'] = country_df['Energy Consumption per Capita'].pct_change() * 100\n",
    "    country_df['Population Growth'] = country_df['Population Growth'].apply(lambda x: '{:.2f}'.format(x))\n",
    "\n",
    "    population_df.append(country_df)\n",
    "#Concat dfs\n",
    "df_pop_merged = pd.concat(population_df, ignore_index=True)"
   ]
  },
  {
   "cell_type": "code",
   "execution_count": null,
   "id": "87e64701-3e76-4a62-90ef-ef6360c81739",
   "metadata": {},
   "outputs": [],
   "source": [
    "#  Analyse the growth in energy source per country and year\n",
    "# # Calculate the growth of each energy source per year and country\n",
    "energy_sources_df = ['Energy Source Nuclear', 'Energy Source Coal, peat and oil shale', 'Energy Source Oil products', 'Energy Source Electricity', 'Energy Source Natural gas']\n",
    "for source in energy_sources_df:\n",
    "    df_pop_merged[f'{source} Growth %'] = df_pop_merged[source].pct_change() * 100\n",
    "    df_pop_merged[f'{source} Growth %'] = df_pop_merged[f'{source} Growth %'].apply(lambda x: '{:.2f}'.format(x))\n",
    "# Display the DataFrame with the growth percentage for each energy source\n",
    "df_pop_merged"
   ]
  },
  {
   "cell_type": "code",
   "execution_count": null,
   "id": "74d61300-a75b-4164-aab9-efa24a0c3050",
   "metadata": {},
   "outputs": [],
   "source": [
    "# Find the top 10 countries with the largest total energy consumption for analysis\n",
    "\n",
    "# Change values to numeric\n",
    "df_pop_merged['Primary Energy Consumption'] = pd.to_numeric(df_pop_merged['Primary Energy Consumption'], errors='coerce')\n",
    "df_pop_merged['Population Growth'] = pd.to_numeric(df_pop_merged['Population Growth'], errors='coerce')\n",
    "\n",
    "# Calculate each country's total energy consumption and population growth for each country across all years\n",
    "total_energy_and_population = df_pop_merged.groupby('Country').agg({'Primary Energy Consumption': 'sum', 'Population Growth': 'sum'})\n",
    "\n",
    "# Find the top 10 countries with highest cumulative energy consumption\n",
    "highest_energy_consumption = total_energy_and_population['Primary Energy Consumption'].nlargest(10)\n",
    "\n",
    "# Create new DataFrame for top 10 energy spenders for all records (1985-2022)\n",
    "highest_energy_consumption_df = pd.DataFrame({\n",
    "    'Country': highest_energy_consumption.index,\n",
    "    'Total Energy Consumption': highest_energy_consumption.values,\n",
    "    'Total Population Growth from 1990 - 2021': total_energy_and_population.loc[highest_energy_consumption.index, 'Population Growth'].values\n",
    "})\n",
    "\n",
    "# Append '%' sign to the 'Population Growth from 1990 - 2021' column\n",
    "highest_energy_consumption_df['Total Population Growth from 1990 - 2021'] = highest_energy_consumption_df['Total Population Growth from 1990 - 2021'].map('{:.2f}%'.format)\n",
    "\n",
    "# Display DataFrame\n",
    "highest_energy_consumption_df"
   ]
  },
  {
   "cell_type": "code",
   "execution_count": null,
   "id": "ce2f4299-6eb5-4638-ac51-9bb2ed374845",
   "metadata": {},
   "outputs": [],
   "source": [
    "# Convert to numerical value\n",
    "df_pop_merged['CO2 Emissions'] = pd.to_numeric(df_pop_merged['CO2 Emissions'], errors='coerce')\n",
    "df_pop_merged['Population Growth'] = pd.to_numeric(df_pop_merged['Population Growth'], errors='coerce')\n",
    "\n",
    "# Define columns for comparison\n",
    "co2_emissions = df_pop_merged['CO2 Emissions']\n",
    "pop_growth = df_pop_merged['Population Growth']\n",
    "\n",
    "# Calculate correlation\n",
    "population_emissions_corr = co2_emissions.corr(pop_growth)\n",
    "print(f\"Correlation between CO2 emissions and population growth: {population_emissions_corr}\")"
   ]
  },
  {
   "cell_type": "markdown",
   "id": "c70f0e5b-ea37-4803-852f-8cb8a5ce4403",
   "metadata": {},
   "source": [
    "CO2 emissions and population growth have a weak positive correlation. While there is a slight tendency for CO2 emissions and population growth to increase together, the relationship is not very strong. "
   ]
  },
  {
   "cell_type": "code",
   "execution_count": null,
   "id": "81a918f2-c2d1-419d-a1b1-29a997d19849",
   "metadata": {},
   "outputs": [],
   "source": [
    "# Create graph to visualize correlation between CO2 emissions and global population growth\n",
    "population_emissions_corr = co2_emissions.corr(pop_growth)\n",
    "\n",
    "slope, intercept, rvalue, pvalue, stderr = linregress(pop_growth, co2_emissions)\n",
    "\n",
    "plt.scatter(pop_growth, co2_emissions, s=1)\n",
    "plt.plot(pop_growth, slope * pop_growth + intercept, color = 'red')\n",
    "\n",
    "plt.xlabel('Population Growth)')\n",
    "plt.ylabel('CO2 Emissions (million tonnes of carbon)')\n",
    "plt.grid(True)\n",
    "\n",
    "print(f\"Correlation between CO2 emissions and global population growth: {population_emissions_corr}\")\n",
    "plt.show()"
   ]
  },
  {
   "cell_type": "markdown",
   "id": "9a2d2db4-f06c-410d-a576-76260ae210b6",
   "metadata": {},
   "source": [
    "# What is the most common energy source ? Has it changed over time ?"
   ]
  },
  {
   "cell_type": "code",
   "execution_count": null,
   "id": "0e8518c9-b026-4418-9f42-b39ae32ee302",
   "metadata": {},
   "outputs": [],
   "source": [
    "# Create a stack bar chart for all energy sources over 30 years period\n",
    "\n",
    "# Exclude columns 'B' and 'C' from the DataFrame\n",
    "columns_to_exclude = ['Primary Energy Consumption','Energy Consumption per Capita','CO2 Emissions']\n",
    "filtered_df = final_df.drop(columns=columns_to_exclude)\n",
    "\n",
    "# Group the data by year and calculate total energy consumption for each energy source\n",
    "grouped = filtered_df.groupby('Year').sum()\n",
    "\n",
    "# Create a bar chart to visualize the trends over time\n",
    "grouped.plot(kind='bar', stacked=True, figsize=(12, 6))\n",
    "plt.title('Energy Consumption by Source Over Time')\n",
    "plt.xlabel('Year')\n",
    "plt.ylabel('Total Energy Consumption')\n",
    "plt.legend(title='Energy Source')\n",
    "plt.show()\n"
   ]
  }
 ],
 "metadata": {
  "kernelspec": {
   "display_name": "Python 3 (ipykernel)",
   "language": "python",
   "name": "python3"
  },
  "language_info": {
   "codemirror_mode": {
    "name": "ipython",
    "version": 3
   },
   "file_extension": ".py",
   "mimetype": "text/x-python",
   "name": "python",
   "nbconvert_exporter": "python",
   "pygments_lexer": "ipython3",
   "version": "3.11.5"
  }
 },
 "nbformat": 4,
 "nbformat_minor": 5
}
