{
 "cells": [
  {
   "cell_type": "markdown",
   "id": "14e40ccd-24db-4944-abf3-3496e4153729",
   "metadata": {},
   "source": [
    "#Global Climate Trends\n",
    "\n",
    "##Analysis\n"
   ]
  },
  {
   "cell_type": "code",
   "execution_count": 27,
   "id": "c7ebe702-960d-4c0e-9cc1-c9b239e6803d",
   "metadata": {
    "tags": []
   },
   "outputs": [],
   "source": [
    "# Dependencies and Setup\n",
    "import pandas as pd\n",
    "import os\n",
    "import csv\n",
    "import matplotlib.pyplot as plt\n",
    "import scipy.stats as st\n",
    "import numpy as np\n",
    "from scipy.stats import linregress"
   ]
  },
  {
   "cell_type": "code",
   "execution_count": 28,
   "id": "299ba03f",
   "metadata": {
    "tags": []
   },
   "outputs": [],
   "source": [
    "# Folder paths\n",
    "\n",
    "Primary_Energy_Consumption_path = \"Data/csv/Primary_Energy_Consumption.csv\"\n",
    "per_capita_file_path = \"Data/csv/energy_Consumption_per_capita.csv\"\n",
    "\n",
    "\n",
    "# Read the energyata and the study results\n",
    "#ece_df = pd.read_csv(energy_metadata_path)\n",
    "#ece_df\n",
    "\n",
    "\n",
    "input_folder = os.path.join('')\n",
    "output_folder = os.path.join('')\n",
    "#input_folder = \"\"\n",
    "#output_folder = \"\""
   ]
  },
  {
   "cell_type": "code",
   "execution_count": 48,
   "id": "e8d823a6-820c-41c8-b248-d4adcd6915ff",
   "metadata": {
    "tags": []
   },
   "outputs": [],
   "source": [
    "# Path to folders for merging of all 3 cleaned datasets\n",
    "input_folder_path = os.path.join(\"Data\",\"Input\")\n",
    "output_folder_path = os.path.join(\"Data\",\"output\")\n",
    "\n",
    "#Path to ALL cleaned input files for merging\n",
    "total_consumption_input_file_path = os.path.join(\"primary_energy_consumption.csv\")\n",
    "#per_capita_input_file_path = os.path.join(\"Data\", \"Input\", \"energy_Consumption_capita.csv\")\n",
    "#co2_input_file_path = os.path.join(\"Data\", \"Input\", \"co2_emissions_country.csv\")"
   ]
  },
  {
   "cell_type": "code",
   "execution_count": 49,
   "id": "cbfce715-5021-4a04-956b-0a8bf3ae1de1",
   "metadata": {
    "tags": []
   },
   "outputs": [
    {
     "ename": "FileNotFoundError",
     "evalue": "[Errno 2] No such file or directory: 'primary_energy_consumption.csv'",
     "output_type": "error",
     "traceback": [
      "\u001b[0;31m---------------------------------------------------------------------------\u001b[0m",
      "\u001b[0;31mFileNotFoundError\u001b[0m                         Traceback (most recent call last)",
      "Cell \u001b[0;32mIn[49], line 2\u001b[0m\n\u001b[1;32m      1\u001b[0m \u001b[38;5;66;03m# Read input files\u001b[39;00m\n\u001b[0;32m----> 2\u001b[0m df_consumption \u001b[38;5;241m=\u001b[39m \u001b[43mpd\u001b[49m\u001b[38;5;241;43m.\u001b[39;49m\u001b[43mread_csv\u001b[49m\u001b[43m(\u001b[49m\u001b[43mtotal_consumption_input_file_path\u001b[49m\u001b[43m)\u001b[49m\n\u001b[1;32m      3\u001b[0m df_per_capita \u001b[38;5;241m=\u001b[39m pd\u001b[38;5;241m.\u001b[39mread_csv(per_capita_input_file_path)\n\u001b[1;32m      4\u001b[0m df_co2 \u001b[38;5;241m=\u001b[39m pd\u001b[38;5;241m.\u001b[39mread_csv(co2_input_file_path)\n",
      "File \u001b[0;32m~/anaconda3/envs/dev/lib/python3.10/site-packages/pandas/io/parsers/readers.py:912\u001b[0m, in \u001b[0;36mread_csv\u001b[0;34m(filepath_or_buffer, sep, delimiter, header, names, index_col, usecols, dtype, engine, converters, true_values, false_values, skipinitialspace, skiprows, skipfooter, nrows, na_values, keep_default_na, na_filter, verbose, skip_blank_lines, parse_dates, infer_datetime_format, keep_date_col, date_parser, date_format, dayfirst, cache_dates, iterator, chunksize, compression, thousands, decimal, lineterminator, quotechar, quoting, doublequote, escapechar, comment, encoding, encoding_errors, dialect, on_bad_lines, delim_whitespace, low_memory, memory_map, float_precision, storage_options, dtype_backend)\u001b[0m\n\u001b[1;32m    899\u001b[0m kwds_defaults \u001b[38;5;241m=\u001b[39m _refine_defaults_read(\n\u001b[1;32m    900\u001b[0m     dialect,\n\u001b[1;32m    901\u001b[0m     delimiter,\n\u001b[0;32m   (...)\u001b[0m\n\u001b[1;32m    908\u001b[0m     dtype_backend\u001b[38;5;241m=\u001b[39mdtype_backend,\n\u001b[1;32m    909\u001b[0m )\n\u001b[1;32m    910\u001b[0m kwds\u001b[38;5;241m.\u001b[39mupdate(kwds_defaults)\n\u001b[0;32m--> 912\u001b[0m \u001b[38;5;28;01mreturn\u001b[39;00m \u001b[43m_read\u001b[49m\u001b[43m(\u001b[49m\u001b[43mfilepath_or_buffer\u001b[49m\u001b[43m,\u001b[49m\u001b[43m \u001b[49m\u001b[43mkwds\u001b[49m\u001b[43m)\u001b[49m\n",
      "File \u001b[0;32m~/anaconda3/envs/dev/lib/python3.10/site-packages/pandas/io/parsers/readers.py:577\u001b[0m, in \u001b[0;36m_read\u001b[0;34m(filepath_or_buffer, kwds)\u001b[0m\n\u001b[1;32m    574\u001b[0m _validate_names(kwds\u001b[38;5;241m.\u001b[39mget(\u001b[38;5;124m\"\u001b[39m\u001b[38;5;124mnames\u001b[39m\u001b[38;5;124m\"\u001b[39m, \u001b[38;5;28;01mNone\u001b[39;00m))\n\u001b[1;32m    576\u001b[0m \u001b[38;5;66;03m# Create the parser.\u001b[39;00m\n\u001b[0;32m--> 577\u001b[0m parser \u001b[38;5;241m=\u001b[39m \u001b[43mTextFileReader\u001b[49m\u001b[43m(\u001b[49m\u001b[43mfilepath_or_buffer\u001b[49m\u001b[43m,\u001b[49m\u001b[43m \u001b[49m\u001b[38;5;241;43m*\u001b[39;49m\u001b[38;5;241;43m*\u001b[39;49m\u001b[43mkwds\u001b[49m\u001b[43m)\u001b[49m\n\u001b[1;32m    579\u001b[0m \u001b[38;5;28;01mif\u001b[39;00m chunksize \u001b[38;5;129;01mor\u001b[39;00m iterator:\n\u001b[1;32m    580\u001b[0m     \u001b[38;5;28;01mreturn\u001b[39;00m parser\n",
      "File \u001b[0;32m~/anaconda3/envs/dev/lib/python3.10/site-packages/pandas/io/parsers/readers.py:1407\u001b[0m, in \u001b[0;36mTextFileReader.__init__\u001b[0;34m(self, f, engine, **kwds)\u001b[0m\n\u001b[1;32m   1404\u001b[0m     \u001b[38;5;28mself\u001b[39m\u001b[38;5;241m.\u001b[39moptions[\u001b[38;5;124m\"\u001b[39m\u001b[38;5;124mhas_index_names\u001b[39m\u001b[38;5;124m\"\u001b[39m] \u001b[38;5;241m=\u001b[39m kwds[\u001b[38;5;124m\"\u001b[39m\u001b[38;5;124mhas_index_names\u001b[39m\u001b[38;5;124m\"\u001b[39m]\n\u001b[1;32m   1406\u001b[0m \u001b[38;5;28mself\u001b[39m\u001b[38;5;241m.\u001b[39mhandles: IOHandles \u001b[38;5;241m|\u001b[39m \u001b[38;5;28;01mNone\u001b[39;00m \u001b[38;5;241m=\u001b[39m \u001b[38;5;28;01mNone\u001b[39;00m\n\u001b[0;32m-> 1407\u001b[0m \u001b[38;5;28mself\u001b[39m\u001b[38;5;241m.\u001b[39m_engine \u001b[38;5;241m=\u001b[39m \u001b[38;5;28;43mself\u001b[39;49m\u001b[38;5;241;43m.\u001b[39;49m\u001b[43m_make_engine\u001b[49m\u001b[43m(\u001b[49m\u001b[43mf\u001b[49m\u001b[43m,\u001b[49m\u001b[43m \u001b[49m\u001b[38;5;28;43mself\u001b[39;49m\u001b[38;5;241;43m.\u001b[39;49m\u001b[43mengine\u001b[49m\u001b[43m)\u001b[49m\n",
      "File \u001b[0;32m~/anaconda3/envs/dev/lib/python3.10/site-packages/pandas/io/parsers/readers.py:1661\u001b[0m, in \u001b[0;36mTextFileReader._make_engine\u001b[0;34m(self, f, engine)\u001b[0m\n\u001b[1;32m   1659\u001b[0m     \u001b[38;5;28;01mif\u001b[39;00m \u001b[38;5;124m\"\u001b[39m\u001b[38;5;124mb\u001b[39m\u001b[38;5;124m\"\u001b[39m \u001b[38;5;129;01mnot\u001b[39;00m \u001b[38;5;129;01min\u001b[39;00m mode:\n\u001b[1;32m   1660\u001b[0m         mode \u001b[38;5;241m+\u001b[39m\u001b[38;5;241m=\u001b[39m \u001b[38;5;124m\"\u001b[39m\u001b[38;5;124mb\u001b[39m\u001b[38;5;124m\"\u001b[39m\n\u001b[0;32m-> 1661\u001b[0m \u001b[38;5;28mself\u001b[39m\u001b[38;5;241m.\u001b[39mhandles \u001b[38;5;241m=\u001b[39m \u001b[43mget_handle\u001b[49m\u001b[43m(\u001b[49m\n\u001b[1;32m   1662\u001b[0m \u001b[43m    \u001b[49m\u001b[43mf\u001b[49m\u001b[43m,\u001b[49m\n\u001b[1;32m   1663\u001b[0m \u001b[43m    \u001b[49m\u001b[43mmode\u001b[49m\u001b[43m,\u001b[49m\n\u001b[1;32m   1664\u001b[0m \u001b[43m    \u001b[49m\u001b[43mencoding\u001b[49m\u001b[38;5;241;43m=\u001b[39;49m\u001b[38;5;28;43mself\u001b[39;49m\u001b[38;5;241;43m.\u001b[39;49m\u001b[43moptions\u001b[49m\u001b[38;5;241;43m.\u001b[39;49m\u001b[43mget\u001b[49m\u001b[43m(\u001b[49m\u001b[38;5;124;43m\"\u001b[39;49m\u001b[38;5;124;43mencoding\u001b[39;49m\u001b[38;5;124;43m\"\u001b[39;49m\u001b[43m,\u001b[49m\u001b[43m \u001b[49m\u001b[38;5;28;43;01mNone\u001b[39;49;00m\u001b[43m)\u001b[49m\u001b[43m,\u001b[49m\n\u001b[1;32m   1665\u001b[0m \u001b[43m    \u001b[49m\u001b[43mcompression\u001b[49m\u001b[38;5;241;43m=\u001b[39;49m\u001b[38;5;28;43mself\u001b[39;49m\u001b[38;5;241;43m.\u001b[39;49m\u001b[43moptions\u001b[49m\u001b[38;5;241;43m.\u001b[39;49m\u001b[43mget\u001b[49m\u001b[43m(\u001b[49m\u001b[38;5;124;43m\"\u001b[39;49m\u001b[38;5;124;43mcompression\u001b[39;49m\u001b[38;5;124;43m\"\u001b[39;49m\u001b[43m,\u001b[49m\u001b[43m \u001b[49m\u001b[38;5;28;43;01mNone\u001b[39;49;00m\u001b[43m)\u001b[49m\u001b[43m,\u001b[49m\n\u001b[1;32m   1666\u001b[0m \u001b[43m    \u001b[49m\u001b[43mmemory_map\u001b[49m\u001b[38;5;241;43m=\u001b[39;49m\u001b[38;5;28;43mself\u001b[39;49m\u001b[38;5;241;43m.\u001b[39;49m\u001b[43moptions\u001b[49m\u001b[38;5;241;43m.\u001b[39;49m\u001b[43mget\u001b[49m\u001b[43m(\u001b[49m\u001b[38;5;124;43m\"\u001b[39;49m\u001b[38;5;124;43mmemory_map\u001b[39;49m\u001b[38;5;124;43m\"\u001b[39;49m\u001b[43m,\u001b[49m\u001b[43m \u001b[49m\u001b[38;5;28;43;01mFalse\u001b[39;49;00m\u001b[43m)\u001b[49m\u001b[43m,\u001b[49m\n\u001b[1;32m   1667\u001b[0m \u001b[43m    \u001b[49m\u001b[43mis_text\u001b[49m\u001b[38;5;241;43m=\u001b[39;49m\u001b[43mis_text\u001b[49m\u001b[43m,\u001b[49m\n\u001b[1;32m   1668\u001b[0m \u001b[43m    \u001b[49m\u001b[43merrors\u001b[49m\u001b[38;5;241;43m=\u001b[39;49m\u001b[38;5;28;43mself\u001b[39;49m\u001b[38;5;241;43m.\u001b[39;49m\u001b[43moptions\u001b[49m\u001b[38;5;241;43m.\u001b[39;49m\u001b[43mget\u001b[49m\u001b[43m(\u001b[49m\u001b[38;5;124;43m\"\u001b[39;49m\u001b[38;5;124;43mencoding_errors\u001b[39;49m\u001b[38;5;124;43m\"\u001b[39;49m\u001b[43m,\u001b[49m\u001b[43m \u001b[49m\u001b[38;5;124;43m\"\u001b[39;49m\u001b[38;5;124;43mstrict\u001b[39;49m\u001b[38;5;124;43m\"\u001b[39;49m\u001b[43m)\u001b[49m\u001b[43m,\u001b[49m\n\u001b[1;32m   1669\u001b[0m \u001b[43m    \u001b[49m\u001b[43mstorage_options\u001b[49m\u001b[38;5;241;43m=\u001b[39;49m\u001b[38;5;28;43mself\u001b[39;49m\u001b[38;5;241;43m.\u001b[39;49m\u001b[43moptions\u001b[49m\u001b[38;5;241;43m.\u001b[39;49m\u001b[43mget\u001b[49m\u001b[43m(\u001b[49m\u001b[38;5;124;43m\"\u001b[39;49m\u001b[38;5;124;43mstorage_options\u001b[39;49m\u001b[38;5;124;43m\"\u001b[39;49m\u001b[43m,\u001b[49m\u001b[43m \u001b[49m\u001b[38;5;28;43;01mNone\u001b[39;49;00m\u001b[43m)\u001b[49m\u001b[43m,\u001b[49m\n\u001b[1;32m   1670\u001b[0m \u001b[43m\u001b[49m\u001b[43m)\u001b[49m\n\u001b[1;32m   1671\u001b[0m \u001b[38;5;28;01massert\u001b[39;00m \u001b[38;5;28mself\u001b[39m\u001b[38;5;241m.\u001b[39mhandles \u001b[38;5;129;01mis\u001b[39;00m \u001b[38;5;129;01mnot\u001b[39;00m \u001b[38;5;28;01mNone\u001b[39;00m\n\u001b[1;32m   1672\u001b[0m f \u001b[38;5;241m=\u001b[39m \u001b[38;5;28mself\u001b[39m\u001b[38;5;241m.\u001b[39mhandles\u001b[38;5;241m.\u001b[39mhandle\n",
      "File \u001b[0;32m~/anaconda3/envs/dev/lib/python3.10/site-packages/pandas/io/common.py:859\u001b[0m, in \u001b[0;36mget_handle\u001b[0;34m(path_or_buf, mode, encoding, compression, memory_map, is_text, errors, storage_options)\u001b[0m\n\u001b[1;32m    854\u001b[0m \u001b[38;5;28;01melif\u001b[39;00m \u001b[38;5;28misinstance\u001b[39m(handle, \u001b[38;5;28mstr\u001b[39m):\n\u001b[1;32m    855\u001b[0m     \u001b[38;5;66;03m# Check whether the filename is to be opened in binary mode.\u001b[39;00m\n\u001b[1;32m    856\u001b[0m     \u001b[38;5;66;03m# Binary mode does not support 'encoding' and 'newline'.\u001b[39;00m\n\u001b[1;32m    857\u001b[0m     \u001b[38;5;28;01mif\u001b[39;00m ioargs\u001b[38;5;241m.\u001b[39mencoding \u001b[38;5;129;01mand\u001b[39;00m \u001b[38;5;124m\"\u001b[39m\u001b[38;5;124mb\u001b[39m\u001b[38;5;124m\"\u001b[39m \u001b[38;5;129;01mnot\u001b[39;00m \u001b[38;5;129;01min\u001b[39;00m ioargs\u001b[38;5;241m.\u001b[39mmode:\n\u001b[1;32m    858\u001b[0m         \u001b[38;5;66;03m# Encoding\u001b[39;00m\n\u001b[0;32m--> 859\u001b[0m         handle \u001b[38;5;241m=\u001b[39m \u001b[38;5;28;43mopen\u001b[39;49m\u001b[43m(\u001b[49m\n\u001b[1;32m    860\u001b[0m \u001b[43m            \u001b[49m\u001b[43mhandle\u001b[49m\u001b[43m,\u001b[49m\n\u001b[1;32m    861\u001b[0m \u001b[43m            \u001b[49m\u001b[43mioargs\u001b[49m\u001b[38;5;241;43m.\u001b[39;49m\u001b[43mmode\u001b[49m\u001b[43m,\u001b[49m\n\u001b[1;32m    862\u001b[0m \u001b[43m            \u001b[49m\u001b[43mencoding\u001b[49m\u001b[38;5;241;43m=\u001b[39;49m\u001b[43mioargs\u001b[49m\u001b[38;5;241;43m.\u001b[39;49m\u001b[43mencoding\u001b[49m\u001b[43m,\u001b[49m\n\u001b[1;32m    863\u001b[0m \u001b[43m            \u001b[49m\u001b[43merrors\u001b[49m\u001b[38;5;241;43m=\u001b[39;49m\u001b[43merrors\u001b[49m\u001b[43m,\u001b[49m\n\u001b[1;32m    864\u001b[0m \u001b[43m            \u001b[49m\u001b[43mnewline\u001b[49m\u001b[38;5;241;43m=\u001b[39;49m\u001b[38;5;124;43m\"\u001b[39;49m\u001b[38;5;124;43m\"\u001b[39;49m\u001b[43m,\u001b[49m\n\u001b[1;32m    865\u001b[0m \u001b[43m        \u001b[49m\u001b[43m)\u001b[49m\n\u001b[1;32m    866\u001b[0m     \u001b[38;5;28;01melse\u001b[39;00m:\n\u001b[1;32m    867\u001b[0m         \u001b[38;5;66;03m# Binary mode\u001b[39;00m\n\u001b[1;32m    868\u001b[0m         handle \u001b[38;5;241m=\u001b[39m \u001b[38;5;28mopen\u001b[39m(handle, ioargs\u001b[38;5;241m.\u001b[39mmode)\n",
      "\u001b[0;31mFileNotFoundError\u001b[0m: [Errno 2] No such file or directory: 'primary_energy_consumption.csv'"
     ]
    }
   ],
   "source": [
    "# Read input files\n",
    "df_consumption = pd.read_csv(total_consumption_input_file_path)\n",
    "df_per_capita = pd.read_csv(per_capita_input_file_path)\n",
    "df_co2 = pd.read_csv(co2_input_file_path)"
   ]
  },
  {
   "cell_type": "code",
   "execution_count": 50,
   "id": "6526c968-cbb8-4abc-8644-19a1948bcf8b",
   "metadata": {
    "tags": []
   },
   "outputs": [
    {
     "data": {
      "text/html": [
       "<div>\n",
       "<style scoped>\n",
       "    .dataframe tbody tr th:only-of-type {\n",
       "        vertical-align: middle;\n",
       "    }\n",
       "\n",
       "    .dataframe tbody tr th {\n",
       "        vertical-align: top;\n",
       "    }\n",
       "\n",
       "    .dataframe thead th {\n",
       "        text-align: right;\n",
       "    }\n",
       "</style>\n",
       "<table border=\"1\" class=\"dataframe\">\n",
       "  <thead>\n",
       "    <tr style=\"text-align: right;\">\n",
       "      <th></th>\n",
       "      <th>Year</th>\n",
       "      <th>Country</th>\n",
       "      <th>Primary Energy Consumption</th>\n",
       "      <th>Primary Energy Consumption per Capita</th>\n",
       "      <th>Energy CO2 Emissions</th>\n",
       "    </tr>\n",
       "  </thead>\n",
       "  <tbody>\n",
       "    <tr>\n",
       "      <th>0</th>\n",
       "      <td>1985</td>\n",
       "      <td>Canada</td>\n",
       "      <td>10.29</td>\n",
       "      <td>398.0</td>\n",
       "      <td>403.5</td>\n",
       "    </tr>\n",
       "    <tr>\n",
       "      <th>1</th>\n",
       "      <td>1985</td>\n",
       "      <td>Mexico</td>\n",
       "      <td>4.08</td>\n",
       "      <td>54.5</td>\n",
       "      <td>233.9</td>\n",
       "    </tr>\n",
       "    <tr>\n",
       "      <th>2</th>\n",
       "      <td>1985</td>\n",
       "      <td>US</td>\n",
       "      <td>72.66</td>\n",
       "      <td>309.0</td>\n",
       "      <td>4576.0</td>\n",
       "    </tr>\n",
       "    <tr>\n",
       "      <th>3</th>\n",
       "      <td>1985</td>\n",
       "      <td>Argentina</td>\n",
       "      <td>1.73</td>\n",
       "      <td>57.2</td>\n",
       "      <td>94.6</td>\n",
       "    </tr>\n",
       "    <tr>\n",
       "      <th>4</th>\n",
       "      <td>1985</td>\n",
       "      <td>Brazil</td>\n",
       "      <td>4.94</td>\n",
       "      <td>36.1</td>\n",
       "      <td>185.0</td>\n",
       "    </tr>\n",
       "    <tr>\n",
       "      <th>...</th>\n",
       "      <td>...</td>\n",
       "      <td>...</td>\n",
       "      <td>...</td>\n",
       "      <td>...</td>\n",
       "      <td>...</td>\n",
       "    </tr>\n",
       "    <tr>\n",
       "      <th>3453</th>\n",
       "      <td>2022</td>\n",
       "      <td>Sri Lanka</td>\n",
       "      <td>0.34</td>\n",
       "      <td>15.7</td>\n",
       "      <td>19.9</td>\n",
       "    </tr>\n",
       "    <tr>\n",
       "      <th>3454</th>\n",
       "      <td>2022</td>\n",
       "      <td>Taiwan</td>\n",
       "      <td>4.78</td>\n",
       "      <td>200.2</td>\n",
       "      <td>272.4</td>\n",
       "    </tr>\n",
       "    <tr>\n",
       "      <th>3455</th>\n",
       "      <td>2022</td>\n",
       "      <td>Thailand</td>\n",
       "      <td>5.06</td>\n",
       "      <td>70.6</td>\n",
       "      <td>275.3</td>\n",
       "    </tr>\n",
       "    <tr>\n",
       "      <th>3456</th>\n",
       "      <td>2022</td>\n",
       "      <td>Vietnam</td>\n",
       "      <td>4.59</td>\n",
       "      <td>46.7</td>\n",
       "      <td>270.0</td>\n",
       "    </tr>\n",
       "    <tr>\n",
       "      <th>3457</th>\n",
       "      <td>2022</td>\n",
       "      <td>Other Asia Pacific</td>\n",
       "      <td>3.55</td>\n",
       "      <td>18.0</td>\n",
       "      <td>206.2</td>\n",
       "    </tr>\n",
       "  </tbody>\n",
       "</table>\n",
       "<p>3458 rows × 5 columns</p>\n",
       "</div>"
      ],
      "text/plain": [
       "      Year             Country Primary Energy Consumption  \\\n",
       "0     1985              Canada                      10.29   \n",
       "1     1985              Mexico                       4.08   \n",
       "2     1985                  US                      72.66   \n",
       "3     1985           Argentina                       1.73   \n",
       "4     1985              Brazil                       4.94   \n",
       "...    ...                 ...                        ...   \n",
       "3453  2022           Sri Lanka                       0.34   \n",
       "3454  2022              Taiwan                       4.78   \n",
       "3455  2022            Thailand                       5.06   \n",
       "3456  2022             Vietnam                       4.59   \n",
       "3457  2022  Other Asia Pacific                       3.55   \n",
       "\n",
       "      Primary Energy Consumption per Capita Energy CO2 Emissions  \n",
       "0                                     398.0                403.5  \n",
       "1                                      54.5                233.9  \n",
       "2                                     309.0               4576.0  \n",
       "3                                      57.2                 94.6  \n",
       "4                                      36.1                185.0  \n",
       "...                                     ...                  ...  \n",
       "3453                                   15.7                 19.9  \n",
       "3454                                  200.2                272.4  \n",
       "3455                                   70.6                275.3  \n",
       "3456                                   46.7                270.0  \n",
       "3457                                   18.0                206.2  \n",
       "\n",
       "[3458 rows x 5 columns]"
      ]
     },
     "execution_count": 50,
     "metadata": {},
     "output_type": "execute_result"
    }
   ],
   "source": [
    "# Merge first two dataframes\n",
    "merged_df = pd.merge(df_consumption, df_per_capita, on= ['Year','Country'], how='inner')\n",
    "\n",
    "# Merge third dataframe with new merged_df, print out for complete df\n",
    "energy_consumption_df = pd.merge(merged_df, df_co2, on= ['Year','Country'], how='inner')\n",
    "energy_consumption_df"
   ]
  },
  {
   "cell_type": "code",
   "execution_count": 45,
   "id": "b5b44450-f213-4462-bf9f-1a1a5ca79d46",
   "metadata": {
    "scrolled": true
   },
   "outputs": [],
   "source": [
    "def process_file(file_name, column_name):\n",
    "    # Create array to store data for merging\n",
    "    df_array = []\n",
    "\n",
    "    # Read the csv file\n",
    "    input_df = pd.read_csv(os.path.join(input_folder, file_name))\n",
    "\n",
    "    # Loop over the columns of the dataframe skipping the first column\n",
    "    for column in input_df.columns[1:]:\n",
    "        # Create a new dataframe with the country and the year\n",
    "        temp_df = input_df[['Country', column]].copy()\n",
    "\n",
    "        # Adding a new column to the dataframe and positionong\n",
    "        temp_df.insert(0, 'Year', column)\n",
    "\n",
    "        # Rename for column\n",
    "        temp_df.rename(columns={column: column_name}, inplace=True)\n",
    "\n",
    "        # Adding the new dataframe to the array\n",
    "        df_array.append(temp_df)\n",
    "\n",
    "    return pd.concat(df_array, ignore_index=True)"
   ]
  },
  {
   "cell_type": "code",
   "execution_count": 46,
   "id": "b7f9d7f4-b1c3-44ad-8692-36a493ee6f30",
   "metadata": {
    "scrolled": true
   },
   "outputs": [],
   "source": [
    "def merge_dfs(dfs, column_list):\n",
    "    # Store the first dataframe as initial value\n",
    "    merged_df = dfs[0]\n",
    "\n",
    "    # Loop over the dataframes starting from the second place in the array - always the 2nd, regardless of the df\n",
    "    for df in dfs[1:]:\n",
    "        # Merge the dataframes\n",
    "        merged_df = pd.merge(merged_df, df, on=column_list, how='outer')\n",
    "\n",
    "    # Return the merged dataframe\n",
    "    return merged_df"
   ]
  },
  {
   "cell_type": "code",
   "execution_count": 47,
   "id": "f0e1b3c0-4c10-400f-b7e5-ca1d5c2fad27",
   "metadata": {},
   "outputs": [
    {
     "ename": "FileNotFoundError",
     "evalue": "[Errno 2] No such file or directory: 'primary_energy_consumption.csv'",
     "output_type": "error",
     "traceback": [
      "\u001b[0;31m---------------------------------------------------------------------------\u001b[0m",
      "\u001b[0;31mFileNotFoundError\u001b[0m                         Traceback (most recent call last)",
      "Cell \u001b[0;32mIn[47], line 2\u001b[0m\n\u001b[1;32m      1\u001b[0m dfs \u001b[38;5;241m=\u001b[39m [\n\u001b[0;32m----> 2\u001b[0m     \u001b[43mprocess_file\u001b[49m\u001b[43m(\u001b[49m\u001b[38;5;124;43m'\u001b[39;49m\u001b[38;5;124;43mprimary_energy_consumption.csv\u001b[39;49m\u001b[38;5;124;43m'\u001b[39;49m\u001b[43m,\u001b[49m\u001b[43m \u001b[49m\u001b[38;5;124;43m'\u001b[39;49m\u001b[38;5;124;43mPrimary Energy Consumption\u001b[39;49m\u001b[38;5;124;43m'\u001b[39;49m\u001b[43m)\u001b[49m,\n\u001b[1;32m      3\u001b[0m     process_file(\u001b[38;5;124m'\u001b[39m\u001b[38;5;124menergy_Consumption_per_capita.csv\u001b[39m\u001b[38;5;124m'\u001b[39m, \u001b[38;5;124m'\u001b[39m\u001b[38;5;124mEnergy Consumption per Capita\u001b[39m\u001b[38;5;124m'\u001b[39m),\n\u001b[1;32m      4\u001b[0m     process_file(\u001b[38;5;124m'\u001b[39m\u001b[38;5;124mco2_emissions.csv\u001b[39m\u001b[38;5;124m'\u001b[39m, \u001b[38;5;124m'\u001b[39m\u001b[38;5;124mCO2 Emissions\u001b[39m\u001b[38;5;124m'\u001b[39m),\n\u001b[1;32m      5\u001b[0m ]\n\u001b[1;32m      7\u001b[0m merged_dfs \u001b[38;5;241m=\u001b[39m merge_dfs(dfs, [\u001b[38;5;124m'\u001b[39m\u001b[38;5;124mCountry\u001b[39m\u001b[38;5;124m'\u001b[39m, \u001b[38;5;124m'\u001b[39m\u001b[38;5;124mYear\u001b[39m\u001b[38;5;124m'\u001b[39m])\n\u001b[1;32m      8\u001b[0m merged_dfs\n",
      "Cell \u001b[0;32mIn[45], line 6\u001b[0m, in \u001b[0;36mprocess_file\u001b[0;34m(file_name, column_name)\u001b[0m\n\u001b[1;32m      3\u001b[0m df_array \u001b[38;5;241m=\u001b[39m []\n\u001b[1;32m      5\u001b[0m \u001b[38;5;66;03m# Read the csv file\u001b[39;00m\n\u001b[0;32m----> 6\u001b[0m input_df \u001b[38;5;241m=\u001b[39m \u001b[43mpd\u001b[49m\u001b[38;5;241;43m.\u001b[39;49m\u001b[43mread_csv\u001b[49m\u001b[43m(\u001b[49m\u001b[43mos\u001b[49m\u001b[38;5;241;43m.\u001b[39;49m\u001b[43mpath\u001b[49m\u001b[38;5;241;43m.\u001b[39;49m\u001b[43mjoin\u001b[49m\u001b[43m(\u001b[49m\u001b[43minput_folder\u001b[49m\u001b[43m,\u001b[49m\u001b[43m \u001b[49m\u001b[43mfile_name\u001b[49m\u001b[43m)\u001b[49m\u001b[43m)\u001b[49m\n\u001b[1;32m      8\u001b[0m \u001b[38;5;66;03m# Loop over the columns of the dataframe skipping the first column\u001b[39;00m\n\u001b[1;32m      9\u001b[0m \u001b[38;5;28;01mfor\u001b[39;00m column \u001b[38;5;129;01min\u001b[39;00m input_df\u001b[38;5;241m.\u001b[39mcolumns[\u001b[38;5;241m1\u001b[39m:]:\n\u001b[1;32m     10\u001b[0m     \u001b[38;5;66;03m# Create a new dataframe with the country and the year\u001b[39;00m\n",
      "File \u001b[0;32m~/anaconda3/envs/dev/lib/python3.10/site-packages/pandas/io/parsers/readers.py:912\u001b[0m, in \u001b[0;36mread_csv\u001b[0;34m(filepath_or_buffer, sep, delimiter, header, names, index_col, usecols, dtype, engine, converters, true_values, false_values, skipinitialspace, skiprows, skipfooter, nrows, na_values, keep_default_na, na_filter, verbose, skip_blank_lines, parse_dates, infer_datetime_format, keep_date_col, date_parser, date_format, dayfirst, cache_dates, iterator, chunksize, compression, thousands, decimal, lineterminator, quotechar, quoting, doublequote, escapechar, comment, encoding, encoding_errors, dialect, on_bad_lines, delim_whitespace, low_memory, memory_map, float_precision, storage_options, dtype_backend)\u001b[0m\n\u001b[1;32m    899\u001b[0m kwds_defaults \u001b[38;5;241m=\u001b[39m _refine_defaults_read(\n\u001b[1;32m    900\u001b[0m     dialect,\n\u001b[1;32m    901\u001b[0m     delimiter,\n\u001b[0;32m   (...)\u001b[0m\n\u001b[1;32m    908\u001b[0m     dtype_backend\u001b[38;5;241m=\u001b[39mdtype_backend,\n\u001b[1;32m    909\u001b[0m )\n\u001b[1;32m    910\u001b[0m kwds\u001b[38;5;241m.\u001b[39mupdate(kwds_defaults)\n\u001b[0;32m--> 912\u001b[0m \u001b[38;5;28;01mreturn\u001b[39;00m \u001b[43m_read\u001b[49m\u001b[43m(\u001b[49m\u001b[43mfilepath_or_buffer\u001b[49m\u001b[43m,\u001b[49m\u001b[43m \u001b[49m\u001b[43mkwds\u001b[49m\u001b[43m)\u001b[49m\n",
      "File \u001b[0;32m~/anaconda3/envs/dev/lib/python3.10/site-packages/pandas/io/parsers/readers.py:577\u001b[0m, in \u001b[0;36m_read\u001b[0;34m(filepath_or_buffer, kwds)\u001b[0m\n\u001b[1;32m    574\u001b[0m _validate_names(kwds\u001b[38;5;241m.\u001b[39mget(\u001b[38;5;124m\"\u001b[39m\u001b[38;5;124mnames\u001b[39m\u001b[38;5;124m\"\u001b[39m, \u001b[38;5;28;01mNone\u001b[39;00m))\n\u001b[1;32m    576\u001b[0m \u001b[38;5;66;03m# Create the parser.\u001b[39;00m\n\u001b[0;32m--> 577\u001b[0m parser \u001b[38;5;241m=\u001b[39m \u001b[43mTextFileReader\u001b[49m\u001b[43m(\u001b[49m\u001b[43mfilepath_or_buffer\u001b[49m\u001b[43m,\u001b[49m\u001b[43m \u001b[49m\u001b[38;5;241;43m*\u001b[39;49m\u001b[38;5;241;43m*\u001b[39;49m\u001b[43mkwds\u001b[49m\u001b[43m)\u001b[49m\n\u001b[1;32m    579\u001b[0m \u001b[38;5;28;01mif\u001b[39;00m chunksize \u001b[38;5;129;01mor\u001b[39;00m iterator:\n\u001b[1;32m    580\u001b[0m     \u001b[38;5;28;01mreturn\u001b[39;00m parser\n",
      "File \u001b[0;32m~/anaconda3/envs/dev/lib/python3.10/site-packages/pandas/io/parsers/readers.py:1407\u001b[0m, in \u001b[0;36mTextFileReader.__init__\u001b[0;34m(self, f, engine, **kwds)\u001b[0m\n\u001b[1;32m   1404\u001b[0m     \u001b[38;5;28mself\u001b[39m\u001b[38;5;241m.\u001b[39moptions[\u001b[38;5;124m\"\u001b[39m\u001b[38;5;124mhas_index_names\u001b[39m\u001b[38;5;124m\"\u001b[39m] \u001b[38;5;241m=\u001b[39m kwds[\u001b[38;5;124m\"\u001b[39m\u001b[38;5;124mhas_index_names\u001b[39m\u001b[38;5;124m\"\u001b[39m]\n\u001b[1;32m   1406\u001b[0m \u001b[38;5;28mself\u001b[39m\u001b[38;5;241m.\u001b[39mhandles: IOHandles \u001b[38;5;241m|\u001b[39m \u001b[38;5;28;01mNone\u001b[39;00m \u001b[38;5;241m=\u001b[39m \u001b[38;5;28;01mNone\u001b[39;00m\n\u001b[0;32m-> 1407\u001b[0m \u001b[38;5;28mself\u001b[39m\u001b[38;5;241m.\u001b[39m_engine \u001b[38;5;241m=\u001b[39m \u001b[38;5;28;43mself\u001b[39;49m\u001b[38;5;241;43m.\u001b[39;49m\u001b[43m_make_engine\u001b[49m\u001b[43m(\u001b[49m\u001b[43mf\u001b[49m\u001b[43m,\u001b[49m\u001b[43m \u001b[49m\u001b[38;5;28;43mself\u001b[39;49m\u001b[38;5;241;43m.\u001b[39;49m\u001b[43mengine\u001b[49m\u001b[43m)\u001b[49m\n",
      "File \u001b[0;32m~/anaconda3/envs/dev/lib/python3.10/site-packages/pandas/io/parsers/readers.py:1661\u001b[0m, in \u001b[0;36mTextFileReader._make_engine\u001b[0;34m(self, f, engine)\u001b[0m\n\u001b[1;32m   1659\u001b[0m     \u001b[38;5;28;01mif\u001b[39;00m \u001b[38;5;124m\"\u001b[39m\u001b[38;5;124mb\u001b[39m\u001b[38;5;124m\"\u001b[39m \u001b[38;5;129;01mnot\u001b[39;00m \u001b[38;5;129;01min\u001b[39;00m mode:\n\u001b[1;32m   1660\u001b[0m         mode \u001b[38;5;241m+\u001b[39m\u001b[38;5;241m=\u001b[39m \u001b[38;5;124m\"\u001b[39m\u001b[38;5;124mb\u001b[39m\u001b[38;5;124m\"\u001b[39m\n\u001b[0;32m-> 1661\u001b[0m \u001b[38;5;28mself\u001b[39m\u001b[38;5;241m.\u001b[39mhandles \u001b[38;5;241m=\u001b[39m \u001b[43mget_handle\u001b[49m\u001b[43m(\u001b[49m\n\u001b[1;32m   1662\u001b[0m \u001b[43m    \u001b[49m\u001b[43mf\u001b[49m\u001b[43m,\u001b[49m\n\u001b[1;32m   1663\u001b[0m \u001b[43m    \u001b[49m\u001b[43mmode\u001b[49m\u001b[43m,\u001b[49m\n\u001b[1;32m   1664\u001b[0m \u001b[43m    \u001b[49m\u001b[43mencoding\u001b[49m\u001b[38;5;241;43m=\u001b[39;49m\u001b[38;5;28;43mself\u001b[39;49m\u001b[38;5;241;43m.\u001b[39;49m\u001b[43moptions\u001b[49m\u001b[38;5;241;43m.\u001b[39;49m\u001b[43mget\u001b[49m\u001b[43m(\u001b[49m\u001b[38;5;124;43m\"\u001b[39;49m\u001b[38;5;124;43mencoding\u001b[39;49m\u001b[38;5;124;43m\"\u001b[39;49m\u001b[43m,\u001b[49m\u001b[43m \u001b[49m\u001b[38;5;28;43;01mNone\u001b[39;49;00m\u001b[43m)\u001b[49m\u001b[43m,\u001b[49m\n\u001b[1;32m   1665\u001b[0m \u001b[43m    \u001b[49m\u001b[43mcompression\u001b[49m\u001b[38;5;241;43m=\u001b[39;49m\u001b[38;5;28;43mself\u001b[39;49m\u001b[38;5;241;43m.\u001b[39;49m\u001b[43moptions\u001b[49m\u001b[38;5;241;43m.\u001b[39;49m\u001b[43mget\u001b[49m\u001b[43m(\u001b[49m\u001b[38;5;124;43m\"\u001b[39;49m\u001b[38;5;124;43mcompression\u001b[39;49m\u001b[38;5;124;43m\"\u001b[39;49m\u001b[43m,\u001b[49m\u001b[43m \u001b[49m\u001b[38;5;28;43;01mNone\u001b[39;49;00m\u001b[43m)\u001b[49m\u001b[43m,\u001b[49m\n\u001b[1;32m   1666\u001b[0m \u001b[43m    \u001b[49m\u001b[43mmemory_map\u001b[49m\u001b[38;5;241;43m=\u001b[39;49m\u001b[38;5;28;43mself\u001b[39;49m\u001b[38;5;241;43m.\u001b[39;49m\u001b[43moptions\u001b[49m\u001b[38;5;241;43m.\u001b[39;49m\u001b[43mget\u001b[49m\u001b[43m(\u001b[49m\u001b[38;5;124;43m\"\u001b[39;49m\u001b[38;5;124;43mmemory_map\u001b[39;49m\u001b[38;5;124;43m\"\u001b[39;49m\u001b[43m,\u001b[49m\u001b[43m \u001b[49m\u001b[38;5;28;43;01mFalse\u001b[39;49;00m\u001b[43m)\u001b[49m\u001b[43m,\u001b[49m\n\u001b[1;32m   1667\u001b[0m \u001b[43m    \u001b[49m\u001b[43mis_text\u001b[49m\u001b[38;5;241;43m=\u001b[39;49m\u001b[43mis_text\u001b[49m\u001b[43m,\u001b[49m\n\u001b[1;32m   1668\u001b[0m \u001b[43m    \u001b[49m\u001b[43merrors\u001b[49m\u001b[38;5;241;43m=\u001b[39;49m\u001b[38;5;28;43mself\u001b[39;49m\u001b[38;5;241;43m.\u001b[39;49m\u001b[43moptions\u001b[49m\u001b[38;5;241;43m.\u001b[39;49m\u001b[43mget\u001b[49m\u001b[43m(\u001b[49m\u001b[38;5;124;43m\"\u001b[39;49m\u001b[38;5;124;43mencoding_errors\u001b[39;49m\u001b[38;5;124;43m\"\u001b[39;49m\u001b[43m,\u001b[49m\u001b[43m \u001b[49m\u001b[38;5;124;43m\"\u001b[39;49m\u001b[38;5;124;43mstrict\u001b[39;49m\u001b[38;5;124;43m\"\u001b[39;49m\u001b[43m)\u001b[49m\u001b[43m,\u001b[49m\n\u001b[1;32m   1669\u001b[0m \u001b[43m    \u001b[49m\u001b[43mstorage_options\u001b[49m\u001b[38;5;241;43m=\u001b[39;49m\u001b[38;5;28;43mself\u001b[39;49m\u001b[38;5;241;43m.\u001b[39;49m\u001b[43moptions\u001b[49m\u001b[38;5;241;43m.\u001b[39;49m\u001b[43mget\u001b[49m\u001b[43m(\u001b[49m\u001b[38;5;124;43m\"\u001b[39;49m\u001b[38;5;124;43mstorage_options\u001b[39;49m\u001b[38;5;124;43m\"\u001b[39;49m\u001b[43m,\u001b[49m\u001b[43m \u001b[49m\u001b[38;5;28;43;01mNone\u001b[39;49;00m\u001b[43m)\u001b[49m\u001b[43m,\u001b[49m\n\u001b[1;32m   1670\u001b[0m \u001b[43m\u001b[49m\u001b[43m)\u001b[49m\n\u001b[1;32m   1671\u001b[0m \u001b[38;5;28;01massert\u001b[39;00m \u001b[38;5;28mself\u001b[39m\u001b[38;5;241m.\u001b[39mhandles \u001b[38;5;129;01mis\u001b[39;00m \u001b[38;5;129;01mnot\u001b[39;00m \u001b[38;5;28;01mNone\u001b[39;00m\n\u001b[1;32m   1672\u001b[0m f \u001b[38;5;241m=\u001b[39m \u001b[38;5;28mself\u001b[39m\u001b[38;5;241m.\u001b[39mhandles\u001b[38;5;241m.\u001b[39mhandle\n",
      "File \u001b[0;32m~/anaconda3/envs/dev/lib/python3.10/site-packages/pandas/io/common.py:859\u001b[0m, in \u001b[0;36mget_handle\u001b[0;34m(path_or_buf, mode, encoding, compression, memory_map, is_text, errors, storage_options)\u001b[0m\n\u001b[1;32m    854\u001b[0m \u001b[38;5;28;01melif\u001b[39;00m \u001b[38;5;28misinstance\u001b[39m(handle, \u001b[38;5;28mstr\u001b[39m):\n\u001b[1;32m    855\u001b[0m     \u001b[38;5;66;03m# Check whether the filename is to be opened in binary mode.\u001b[39;00m\n\u001b[1;32m    856\u001b[0m     \u001b[38;5;66;03m# Binary mode does not support 'encoding' and 'newline'.\u001b[39;00m\n\u001b[1;32m    857\u001b[0m     \u001b[38;5;28;01mif\u001b[39;00m ioargs\u001b[38;5;241m.\u001b[39mencoding \u001b[38;5;129;01mand\u001b[39;00m \u001b[38;5;124m\"\u001b[39m\u001b[38;5;124mb\u001b[39m\u001b[38;5;124m\"\u001b[39m \u001b[38;5;129;01mnot\u001b[39;00m \u001b[38;5;129;01min\u001b[39;00m ioargs\u001b[38;5;241m.\u001b[39mmode:\n\u001b[1;32m    858\u001b[0m         \u001b[38;5;66;03m# Encoding\u001b[39;00m\n\u001b[0;32m--> 859\u001b[0m         handle \u001b[38;5;241m=\u001b[39m \u001b[38;5;28;43mopen\u001b[39;49m\u001b[43m(\u001b[49m\n\u001b[1;32m    860\u001b[0m \u001b[43m            \u001b[49m\u001b[43mhandle\u001b[49m\u001b[43m,\u001b[49m\n\u001b[1;32m    861\u001b[0m \u001b[43m            \u001b[49m\u001b[43mioargs\u001b[49m\u001b[38;5;241;43m.\u001b[39;49m\u001b[43mmode\u001b[49m\u001b[43m,\u001b[49m\n\u001b[1;32m    862\u001b[0m \u001b[43m            \u001b[49m\u001b[43mencoding\u001b[49m\u001b[38;5;241;43m=\u001b[39;49m\u001b[43mioargs\u001b[49m\u001b[38;5;241;43m.\u001b[39;49m\u001b[43mencoding\u001b[49m\u001b[43m,\u001b[49m\n\u001b[1;32m    863\u001b[0m \u001b[43m            \u001b[49m\u001b[43merrors\u001b[49m\u001b[38;5;241;43m=\u001b[39;49m\u001b[43merrors\u001b[49m\u001b[43m,\u001b[49m\n\u001b[1;32m    864\u001b[0m \u001b[43m            \u001b[49m\u001b[43mnewline\u001b[49m\u001b[38;5;241;43m=\u001b[39;49m\u001b[38;5;124;43m\"\u001b[39;49m\u001b[38;5;124;43m\"\u001b[39;49m\u001b[43m,\u001b[49m\n\u001b[1;32m    865\u001b[0m \u001b[43m        \u001b[49m\u001b[43m)\u001b[49m\n\u001b[1;32m    866\u001b[0m     \u001b[38;5;28;01melse\u001b[39;00m:\n\u001b[1;32m    867\u001b[0m         \u001b[38;5;66;03m# Binary mode\u001b[39;00m\n\u001b[1;32m    868\u001b[0m         handle \u001b[38;5;241m=\u001b[39m \u001b[38;5;28mopen\u001b[39m(handle, ioargs\u001b[38;5;241m.\u001b[39mmode)\n",
      "\u001b[0;31mFileNotFoundError\u001b[0m: [Errno 2] No such file or directory: 'primary_energy_consumption.csv'"
     ]
    }
   ],
   "source": [
    "dfs = [\n",
    "    process_file('primary_energy_consumption.csv', 'Primary Energy Consumption'),\n",
    "    process_file('energy_Consumption_per_capita.csv', 'Energy Consumption per Capita'),\n",
    "    process_file('co2_emissions.csv', 'CO2 Emissions'),\n",
    "]\n",
    "\n",
    "merged_dfs = merge_dfs(dfs, ['Country', 'Year'])\n",
    "merged_dfs"
   ]
  },
  {
   "cell_type": "code",
   "execution_count": 8,
   "id": "a46f0b39",
   "metadata": {},
   "outputs": [
    {
     "ename": "NameError",
     "evalue": "name 'energy_source_path_input' is not defined",
     "output_type": "error",
     "traceback": [
      "\u001b[0;31m---------------------------------------------------------------------------\u001b[0m",
      "\u001b[0;31mNameError\u001b[0m                                 Traceback (most recent call last)",
      "Cell \u001b[0;32mIn[8], line 4\u001b[0m\n\u001b[1;32m      1\u001b[0m \u001b[38;5;66;03m# Read the energy data per source\u001b[39;00m\n\u001b[1;32m      2\u001b[0m \u001b[38;5;66;03m#energy_source_df = pd.read_csv(os.path.join(input_folder, 'energy_consumption_by_source.csv'))\u001b[39;00m\n\u001b[1;32m      3\u001b[0m \u001b[38;5;66;03m#energy_source_df\u001b[39;00m\n\u001b[0;32m----> 4\u001b[0m energy_source_df \u001b[38;5;241m=\u001b[39m pd\u001b[38;5;241m.\u001b[39mread_csv(\u001b[43menergy_source_path_input\u001b[49m)\n\u001b[1;32m      5\u001b[0m energy_source_df\n",
      "\u001b[0;31mNameError\u001b[0m: name 'energy_source_path_input' is not defined"
     ]
    }
   ],
   "source": [
    "# Read the energy data per source\n",
    "#energy_source_df = pd.read_csv(os.path.join(input_folder, 'energy_consumption_by_source.csv'))\n",
    "#energy_source_df\n",
    "energy_source_df = pd.read_csv(energy_source_path_input)\n",
    "energy_source_df\n"
   ]
  },
  {
   "cell_type": "code",
   "execution_count": 9,
   "id": "5f2c61d6",
   "metadata": {},
   "outputs": [
    {
     "ename": "NameError",
     "evalue": "name 'energy_source_df' is not defined",
     "output_type": "error",
     "traceback": [
      "\u001b[0;31m---------------------------------------------------------------------------\u001b[0m",
      "\u001b[0;31mNameError\u001b[0m                                 Traceback (most recent call last)",
      "Cell \u001b[0;32mIn[9], line 5\u001b[0m\n\u001b[1;32m      2\u001b[0m df_energy_source_array \u001b[38;5;241m=\u001b[39m []\n\u001b[1;32m      4\u001b[0m \u001b[38;5;66;03m# Loop over unique values in the column \"Product\"\u001b[39;00m\n\u001b[0;32m----> 5\u001b[0m \u001b[38;5;28;01mfor\u001b[39;00m product \u001b[38;5;129;01min\u001b[39;00m \u001b[43menergy_source_df\u001b[49m[\u001b[38;5;124m'\u001b[39m\u001b[38;5;124mProduct\u001b[39m\u001b[38;5;124m'\u001b[39m]\u001b[38;5;241m.\u001b[39munique():\n\u001b[1;32m      6\u001b[0m \n\u001b[1;32m      7\u001b[0m     \u001b[38;5;66;03m# Create an array to store the temporary dataframes\u001b[39;00m\n\u001b[1;32m      8\u001b[0m     df_array \u001b[38;5;241m=\u001b[39m []\n\u001b[1;32m     10\u001b[0m     \u001b[38;5;66;03m# Loop over the columns of the dataframe skipping the first 3 columns\u001b[39;00m\n",
      "\u001b[0;31mNameError\u001b[0m: name 'energy_source_df' is not defined"
     ]
    }
   ],
   "source": [
    "# Create an array to store the dataframes\n",
    "df_energy_source_array = []\n",
    "\n",
    "# Loop over unique values in the column \"Product\"\n",
    "for product in energy_source_df['Product'].unique():\n",
    "\n",
    "    # Create an array to store the temporary dataframes\n",
    "    df_array = []\n",
    "\n",
    "    # Loop over the columns of the dataframe skipping the first 3 columns\n",
    "    for column in energy_source_df.columns[3:]:\n",
    "        \n",
    "        # Filter the dataframe where column \"Product\" is equal to the product\n",
    "        filtered_df = energy_source_df[energy_source_df['Product'] == product]\n",
    "\n",
    "        # Create a new dataframe with the country and the year\n",
    "        temp_df = filtered_df[['Country', column]].copy()\n",
    "\n",
    "        # Add a new \"Year\" column to the dataframe\n",
    "        temp_df.insert(0, 'Year', column)\n",
    "            \n",
    "        # Rename the value column\n",
    "        temp_df.rename(columns={column: f'Energy Source {product}'}, inplace=True)\n",
    "\n",
    "        # Adding the new dataframe to the array\n",
    "        df_array.append(temp_df)\n",
    "\n",
    "    # Concatenate the dataframes in the array\n",
    "    df_merged = pd.concat(df_array, ignore_index=True)\n",
    "\n",
    "    # Append the dataframe to the final array\n",
    "    df_energy_source_array.append(df_merged)\n",
    "\n",
    "# Merge the dataframes\n",
    "merged_energy_source_df = merge_dfs(df_energy_source_array, ['Country', 'Year'])\n",
    "merged_energy_source_df\n"
   ]
  },
  {
   "cell_type": "code",
   "execution_count": 10,
   "id": "fc7735b8",
   "metadata": {},
   "outputs": [],
   "source": [
    "# Find overlapping values in column between the two dataframes\n",
    "def find_overlap(dfs, column):\n",
    "    # Create a set to store the unique values of the first dataframe\n",
    "    unique_values = set(dfs[0][column].unique())\n",
    "\n",
    "    # Loop over the dataframes starting from the second place in the array\n",
    "    for df in dfs[1:]:\n",
    "        # Update the set with the unique values of the current dataframe\n",
    "        unique_values = unique_values.intersection(df[column].unique())\n",
    "\n",
    "    # Return the set\n",
    "    return unique_values\n"
   ]
  },
  {
   "cell_type": "code",
   "execution_count": 11,
   "id": "afcbc10d",
   "metadata": {},
   "outputs": [],
   "source": [
    "# Filter the dataframe to keep only values in the list per column\n",
    "def filter_df(df, column, values):\n",
    "    # Return the filtered dataframe\n",
    "    return df[df[column].isin(values)]"
   ]
  },
  {
   "cell_type": "code",
   "execution_count": 12,
   "id": "0c5c26b9",
   "metadata": {},
   "outputs": [
    {
     "ename": "NameError",
     "evalue": "name 'merged_dfs' is not defined",
     "output_type": "error",
     "traceback": [
      "\u001b[0;31m---------------------------------------------------------------------------\u001b[0m",
      "\u001b[0;31mNameError\u001b[0m                                 Traceback (most recent call last)",
      "Cell \u001b[0;32mIn[12], line 2\u001b[0m\n\u001b[1;32m      1\u001b[0m \u001b[38;5;66;03m# Find year and country intersection between the two dataframes\u001b[39;00m\n\u001b[0;32m----> 2\u001b[0m years \u001b[38;5;241m=\u001b[39m find_overlap([\u001b[43mmerged_dfs\u001b[49m, merged_energy_source_df], \u001b[38;5;124m'\u001b[39m\u001b[38;5;124mYear\u001b[39m\u001b[38;5;124m'\u001b[39m)\n\u001b[1;32m      3\u001b[0m countries \u001b[38;5;241m=\u001b[39m find_overlap([merged_dfs, merged_energy_source_df], \u001b[38;5;124m'\u001b[39m\u001b[38;5;124mCountry\u001b[39m\u001b[38;5;124m'\u001b[39m)\n\u001b[1;32m      5\u001b[0m \u001b[38;5;66;03m# Filter the dataframes\u001b[39;00m\n",
      "\u001b[0;31mNameError\u001b[0m: name 'merged_dfs' is not defined"
     ]
    }
   ],
   "source": [
    "# Find year and country intersection between the two dataframes\n",
    "years = find_overlap([merged_dfs, merged_energy_source_df], 'Year')\n",
    "countries = find_overlap([merged_dfs, merged_energy_source_df], 'Country')\n",
    "\n",
    "# Filter the dataframes\n",
    "filtered_df = filter_df(filter_df(merged_dfs, 'Year', years), 'Country', countries)\n",
    "filtered_energy_source_df = filter_df(filter_df(merged_energy_source_df, 'Year', years), 'Country', countries)\n",
    "\n",
    "# Merge the dataframes based on year and country\n",
    "final_df = pd.merge(filtered_df, filtered_energy_source_df, on=['Country', 'Year'], how='outer')\n",
    "\n",
    "# Write the final dataframe to a csv file\n",
    "final_df.to_csv(os.path.join(output_folder, 'final_data.csv'), index=False)\n",
    "\n",
    "final_df\n"
   ]
  },
  {
   "cell_type": "code",
   "execution_count": 13,
   "id": "15037631-364c-426b-81c5-ff9b61479885",
   "metadata": {},
   "outputs": [
    {
     "ename": "NameError",
     "evalue": "name 'energy_consumption_df' is not defined",
     "output_type": "error",
     "traceback": [
      "\u001b[0;31m---------------------------------------------------------------------------\u001b[0m",
      "\u001b[0;31mNameError\u001b[0m                                 Traceback (most recent call last)",
      "Cell \u001b[0;32mIn[13], line 4\u001b[0m\n\u001b[1;32m      1\u001b[0m \u001b[38;5;66;03m# Analyze and compare CO2 emissions and energy consumption per capita\u001b[39;00m\n\u001b[1;32m      2\u001b[0m \n\u001b[1;32m      3\u001b[0m \u001b[38;5;66;03m# Convert to numerical values to avoid error\u001b[39;00m\n\u001b[0;32m----> 4\u001b[0m energy_consumption_df[\u001b[38;5;124m'\u001b[39m\u001b[38;5;124mEnergy CO2 Emissions\u001b[39m\u001b[38;5;124m'\u001b[39m] \u001b[38;5;241m=\u001b[39m pd\u001b[38;5;241m.\u001b[39mto_numeric(\u001b[43menergy_consumption_df\u001b[49m[\u001b[38;5;124m'\u001b[39m\u001b[38;5;124mEnergy CO2 Emissions\u001b[39m\u001b[38;5;124m'\u001b[39m], errors\u001b[38;5;241m=\u001b[39m\u001b[38;5;124m'\u001b[39m\u001b[38;5;124mcoerce\u001b[39m\u001b[38;5;124m'\u001b[39m)\n\u001b[1;32m      5\u001b[0m energy_consumption_df[\u001b[38;5;124m'\u001b[39m\u001b[38;5;124mPrimary Energy Consumption\u001b[39m\u001b[38;5;124m'\u001b[39m] \u001b[38;5;241m=\u001b[39m pd\u001b[38;5;241m.\u001b[39mto_numeric(energy_consumption_df[\u001b[38;5;124m'\u001b[39m\u001b[38;5;124mPrimary Energy Consumption\u001b[39m\u001b[38;5;124m'\u001b[39m], errors\u001b[38;5;241m=\u001b[39m\u001b[38;5;124m'\u001b[39m\u001b[38;5;124mcoerce\u001b[39m\u001b[38;5;124m'\u001b[39m)\n\u001b[1;32m      7\u001b[0m \u001b[38;5;66;03m# Define columns for comparison\u001b[39;00m\n",
      "\u001b[0;31mNameError\u001b[0m: name 'energy_consumption_df' is not defined"
     ]
    }
   ],
   "source": [
    "# Analyze and compare CO2 emissions and energy consumption per capita\n",
    "\n",
    "# Convert to numerical values to avoid error\n",
    "energy_consumption_df['Energy CO2 Emissions'] = pd.to_numeric(energy_consumption_df['Energy CO2 Emissions'], errors='coerce')\n",
    "energy_consumption_df['Primary Energy Consumption'] = pd.to_numeric(energy_consumption_df['Primary Energy Consumption'], errors='coerce')\n",
    "\n",
    "# Define columns for comparison\n",
    "co2_emissions = energy_consumption_df['Energy CO2 Emissions']\n",
    "energy_consumption = energy_consumption_df['Primary Energy Consumption']\n",
    "\n",
    "# Solve for correlation of CO2 emission and average energy consumption, print out result\n",
    "consumption_emissions_corr = co2_emissions.corr(energy_consumption)\n",
    "print(f\"Correlation between CO2 emissions and energy consumption: {consumption_emissions_corr}\")"
   ]
  },
  {
   "cell_type": "code",
   "execution_count": 14,
   "id": "166a7214-bb0b-45a6-8059-e177a7548e27",
   "metadata": {},
   "outputs": [],
   "source": [
    "from scipy.stats import linregress"
   ]
  },
  {
   "cell_type": "code",
   "execution_count": 15,
   "id": "aec7de44-183a-4a13-962d-eb1ee5a92571",
   "metadata": {},
   "outputs": [
    {
     "ename": "NameError",
     "evalue": "name 'co2_emissions' is not defined",
     "output_type": "error",
     "traceback": [
      "\u001b[0;31m---------------------------------------------------------------------------\u001b[0m",
      "\u001b[0;31mNameError\u001b[0m                                 Traceback (most recent call last)",
      "Cell \u001b[0;32mIn[15], line 2\u001b[0m\n\u001b[1;32m      1\u001b[0m \u001b[38;5;66;03m# Create graph to visualize correlation between energy consumption and CO2 emission\u001b[39;00m\n\u001b[0;32m----> 2\u001b[0m consumption_emissions_corr \u001b[38;5;241m=\u001b[39m \u001b[43mco2_emissions\u001b[49m\u001b[38;5;241m.\u001b[39mcorr(energy_consumption)\n\u001b[1;32m      4\u001b[0m slope, intercept, rvalue, pvalue, stderr \u001b[38;5;241m=\u001b[39m linregress(energy_consumption, co2_emissions)\n\u001b[1;32m      6\u001b[0m plt\u001b[38;5;241m.\u001b[39mscatter(energy_consumption, co2_emissions, s\u001b[38;5;241m=\u001b[39m\u001b[38;5;241m5\u001b[39m, alpha\u001b[38;5;241m=\u001b[39m\u001b[38;5;241m0.5\u001b[39m)\n",
      "\u001b[0;31mNameError\u001b[0m: name 'co2_emissions' is not defined"
     ]
    }
   ],
   "source": [
    "# Create graph to visualize correlation between energy consumption and CO2 emission\n",
    "consumption_emissions_corr = co2_emissions.corr(energy_consumption)\n",
    "\n",
    "slope, intercept, rvalue, pvalue, stderr = linregress(energy_consumption, co2_emissions)\n",
    "\n",
    "plt.scatter(energy_consumption, co2_emissions, s=5, alpha=0.5)\n",
    "plt.plot(energy_consumption, slope * energy_consumption + intercept, color = 'red')\n",
    "\n",
    "plt.xlabel('Energy Consumption (exajoules)')\n",
    "plt.ylabel('CO2 Emissions (million tonnes of carbon)')\n",
    "\n",
    "\n",
    "print(f\"Correlation between CO2 emissions and energy consumption: {consumption_emissions_corr}\")\n",
    "plt.show()"
   ]
  },
  {
   "cell_type": "code",
   "execution_count": 16,
   "id": "9cdd45e0-1349-490d-ab0d-a6b66464e463",
   "metadata": {},
   "outputs": [
    {
     "ename": "NameError",
     "evalue": "name 'energy_consumption_df' is not defined",
     "output_type": "error",
     "traceback": [
      "\u001b[0;31m---------------------------------------------------------------------------\u001b[0m",
      "\u001b[0;31mNameError\u001b[0m                                 Traceback (most recent call last)",
      "Cell \u001b[0;32mIn[16], line 3\u001b[0m\n\u001b[1;32m      1\u001b[0m \u001b[38;5;66;03m# Analyze and compare CO2 emissions and energy consumption per capita\u001b[39;00m\n\u001b[0;32m----> 3\u001b[0m energy_consumption_df[\u001b[38;5;124m'\u001b[39m\u001b[38;5;124mEnergy CO2 Emissions\u001b[39m\u001b[38;5;124m'\u001b[39m] \u001b[38;5;241m=\u001b[39m pd\u001b[38;5;241m.\u001b[39mto_numeric(\u001b[43menergy_consumption_df\u001b[49m[\u001b[38;5;124m'\u001b[39m\u001b[38;5;124mEnergy CO2 Emissions\u001b[39m\u001b[38;5;124m'\u001b[39m], errors\u001b[38;5;241m=\u001b[39m\u001b[38;5;124m'\u001b[39m\u001b[38;5;124mcoerce\u001b[39m\u001b[38;5;124m'\u001b[39m)\n\u001b[1;32m      4\u001b[0m energy_consumption_df[\u001b[38;5;124m'\u001b[39m\u001b[38;5;124mPrimary Energy Consumption per Capita\u001b[39m\u001b[38;5;124m'\u001b[39m] \u001b[38;5;241m=\u001b[39m pd\u001b[38;5;241m.\u001b[39mto_numeric(energy_consumption_df[\u001b[38;5;124m'\u001b[39m\u001b[38;5;124mPrimary Energy Consumption per Capita\u001b[39m\u001b[38;5;124m'\u001b[39m], errors\u001b[38;5;241m=\u001b[39m\u001b[38;5;124m'\u001b[39m\u001b[38;5;124mcoerce\u001b[39m\u001b[38;5;124m'\u001b[39m)\n\u001b[1;32m      6\u001b[0m co2_emissions \u001b[38;5;241m=\u001b[39m energy_consumption_df[\u001b[38;5;124m'\u001b[39m\u001b[38;5;124mEnergy CO2 Emissions\u001b[39m\u001b[38;5;124m'\u001b[39m]\n",
      "\u001b[0;31mNameError\u001b[0m: name 'energy_consumption_df' is not defined"
     ]
    }
   ],
   "source": [
    "# Analyze and compare CO2 emissions and energy consumption per capita\n",
    "\n",
    "energy_consumption_df['Energy CO2 Emissions'] = pd.to_numeric(energy_consumption_df['Energy CO2 Emissions'], errors='coerce')\n",
    "energy_consumption_df['Primary Energy Consumption per Capita'] = pd.to_numeric(energy_consumption_df['Primary Energy Consumption per Capita'], errors='coerce')\n",
    "\n",
    "co2_emissions = energy_consumption_df['Energy CO2 Emissions']\n",
    "energy_consumption_per_capita = energy_consumption_df['Primary Energy Consumption per Capita']\n",
    "capita_emissions_corr = co2_emissions.corr(energy_consumption_per_capita)\n",
    "print(f\"Correlation between CO2 emissions and energy consumption per capita: {capita_emissions_corr}\")"
   ]
  },
  {
   "cell_type": "code",
   "execution_count": 17,
   "id": "57994c86-1c88-49c1-9bcd-971ebf09af2a",
   "metadata": {},
   "outputs": [
    {
     "ename": "NameError",
     "evalue": "name 'co2_emissions' is not defined",
     "output_type": "error",
     "traceback": [
      "\u001b[0;31m---------------------------------------------------------------------------\u001b[0m",
      "\u001b[0;31mNameError\u001b[0m                                 Traceback (most recent call last)",
      "Cell \u001b[0;32mIn[17], line 2\u001b[0m\n\u001b[1;32m      1\u001b[0m \u001b[38;5;66;03m# Create graph to visualize correlation between CO2 emissions and energy consumption per capita\u001b[39;00m\n\u001b[0;32m----> 2\u001b[0m capita_emissions_corr \u001b[38;5;241m=\u001b[39m \u001b[43mco2_emissions\u001b[49m\u001b[38;5;241m.\u001b[39mcorr(energy_consumption_per_capita)\n\u001b[1;32m      4\u001b[0m slope, intercept, rvalue, pvalue, stderr \u001b[38;5;241m=\u001b[39m linregress(energy_consumption_per_capita, co2_emissions)\n\u001b[1;32m      6\u001b[0m plt\u001b[38;5;241m.\u001b[39mscatter(energy_consumption_per_capita, co2_emissions, s\u001b[38;5;241m=\u001b[39m\u001b[38;5;241m5\u001b[39m, alpha\u001b[38;5;241m=\u001b[39m\u001b[38;5;241m0.5\u001b[39m)\n",
      "\u001b[0;31mNameError\u001b[0m: name 'co2_emissions' is not defined"
     ]
    }
   ],
   "source": [
    "# Create graph to visualize correlation between CO2 emissions and energy consumption per capita\n",
    "capita_emissions_corr = co2_emissions.corr(energy_consumption_per_capita)\n",
    "\n",
    "slope, intercept, rvalue, pvalue, stderr = linregress(energy_consumption_per_capita, co2_emissions)\n",
    "\n",
    "plt.scatter(energy_consumption_per_capita, co2_emissions, s=5, alpha=0.5)\n",
    "plt.plot(energy_consumption_per_capita, slope * energy_consumption_per_capita + intercept, color = 'red')\n",
    "\n",
    "plt.xlabel('Energy Consumption per Capita (gigajoules)')\n",
    "plt.ylabel('CO2 Emissions (million tonnes of carbon)')\n",
    "\n",
    "\n",
    "print(f\"Correlation between CO2 emissions and energy consumption: {capita_emissions_corr}\")\n",
    "plt.show()"
   ]
  },
  {
   "cell_type": "code",
   "execution_count": 18,
   "id": "d69f3820-5506-4986-859c-d54e70206c35",
   "metadata": {},
   "outputs": [
    {
     "ename": "NameError",
     "evalue": "name 'energy_consumption_df' is not defined",
     "output_type": "error",
     "traceback": [
      "\u001b[0;31m---------------------------------------------------------------------------\u001b[0m",
      "\u001b[0;31mNameError\u001b[0m                                 Traceback (most recent call last)",
      "Cell \u001b[0;32mIn[18], line 4\u001b[0m\n\u001b[1;32m      1\u001b[0m \u001b[38;5;66;03m# Solve for yearly percent change of energy use for each country/year\u001b[39;00m\n\u001b[1;32m      2\u001b[0m \n\u001b[1;32m      3\u001b[0m \u001b[38;5;66;03m# Make a df copy for percent change to avoid rewriting, sort by 'Country' and 'Year' \u001b[39;00m\n\u001b[0;32m----> 4\u001b[0m percent_energy_consumption_df \u001b[38;5;241m=\u001b[39m \u001b[43menergy_consumption_df\u001b[49m\u001b[38;5;241m.\u001b[39mcopy()\n\u001b[1;32m      5\u001b[0m percent_energy_consumption_df \u001b[38;5;241m=\u001b[39m percent_energy_consumption_df\u001b[38;5;241m.\u001b[39msort_values(by\u001b[38;5;241m=\u001b[39m[\u001b[38;5;124m'\u001b[39m\u001b[38;5;124mCountry\u001b[39m\u001b[38;5;124m'\u001b[39m, \u001b[38;5;124m'\u001b[39m\u001b[38;5;124mYear\u001b[39m\u001b[38;5;124m'\u001b[39m])\n\u001b[1;32m      7\u001b[0m \u001b[38;5;66;03m# Calculate percentage change of energy consumption per capita by year for each country\u001b[39;00m\n",
      "\u001b[0;31mNameError\u001b[0m: name 'energy_consumption_df' is not defined"
     ]
    }
   ],
   "source": [
    "# Solve for yearly percent change of energy use for each country/year\n",
    "\n",
    "# Make a df copy for percent change to avoid rewriting, sort by 'Country' and 'Year' \n",
    "percent_energy_consumption_df = energy_consumption_df.copy()\n",
    "percent_energy_consumption_df = percent_energy_consumption_df.sort_values(by=['Country', 'Year'])\n",
    "\n",
    "# Calculate percentage change of energy consumption per capita by year for each country\n",
    "percent_energy_consumption_df['Percentage Change'] = (percent_energy_consumption_df.groupby('Country')['Primary Energy Consumption per Capita']\n",
    "                                                   .pct_change() * 100)\n",
    "\n",
    "# Drop null values/ NaN from data table\n",
    "percent_energy_consumption_df = percent_energy_consumption_df.dropna(subset=['Percentage Change'])\n",
    "\n",
    "# Create new variable to store results\n",
    "percentage_change_capita_consum = percent_energy_consumption_df[['Country', 'Year', 'Percentage Change']]\n",
    "\n",
    "# Print table with percentage change for each 'Year' by 'Country'\n",
    "print(percentage_change_capita_consum)"
   ]
  },
  {
   "cell_type": "code",
   "execution_count": 19,
   "id": "06cf91c2-c469-4537-8b4e-406d7d1e502d",
   "metadata": {},
   "outputs": [
    {
     "ename": "NameError",
     "evalue": "name 'percent_energy_consumption_df' is not defined",
     "output_type": "error",
     "traceback": [
      "\u001b[0;31m---------------------------------------------------------------------------\u001b[0m",
      "\u001b[0;31mNameError\u001b[0m                                 Traceback (most recent call last)",
      "Cell \u001b[0;32mIn[19], line 2\u001b[0m\n\u001b[1;32m      1\u001b[0m \u001b[38;5;66;03m# Find the year with the largest percentage change for each country\u001b[39;00m\n\u001b[0;32m----> 2\u001b[0m largest_change_by_country \u001b[38;5;241m=\u001b[39m \u001b[43mpercent_energy_consumption_df\u001b[49m\u001b[38;5;241m.\u001b[39mgroupby(\u001b[38;5;124m'\u001b[39m\u001b[38;5;124mCountry\u001b[39m\u001b[38;5;124m'\u001b[39m)\u001b[38;5;241m.\u001b[39mapply(\u001b[38;5;28;01mlambda\u001b[39;00m x: x\u001b[38;5;241m.\u001b[39mloc[x[\u001b[38;5;124m'\u001b[39m\u001b[38;5;124mPercentage Change\u001b[39m\u001b[38;5;124m'\u001b[39m]\u001b[38;5;241m.\u001b[39midxmax()])\n\u001b[1;32m      4\u001b[0m \u001b[38;5;66;03m# Display the result in a table\u001b[39;00m\n\u001b[1;32m      5\u001b[0m \u001b[38;5;28mprint\u001b[39m(\u001b[38;5;124m\"\u001b[39m\u001b[38;5;124mYear with the Largest Percentage Change in Per Capita Energy Spending by Country:\u001b[39m\u001b[38;5;124m\"\u001b[39m)\n",
      "\u001b[0;31mNameError\u001b[0m: name 'percent_energy_consumption_df' is not defined"
     ]
    }
   ],
   "source": [
    "# Find the year with the largest percentage change for each country\n",
    "largest_change_by_country = percent_energy_consumption_df.groupby('Country').apply(lambda x: x.loc[x['Percentage Change'].idxmax()])\n",
    "\n",
    "# Display the result in a table\n",
    "print(\"Year with the Largest Percentage Change in Per Capita Energy Spending by Country:\")\n",
    "largest_change_by_country[['Country', 'Year', 'Percentage Change']]"
   ]
  },
  {
   "cell_type": "code",
   "execution_count": 20,
   "id": "34f19f1e-8487-4621-8958-331d01e76966",
   "metadata": {},
   "outputs": [
    {
     "ename": "SyntaxError",
     "evalue": "invalid syntax (2396757872.py, line 12)",
     "output_type": "error",
     "traceback": [
      "\u001b[0;36m  Cell \u001b[0;32mIn[20], line 12\u001b[0;36m\u001b[0m\n\u001b[0;31m    Year\tCountry\u001b[0m\n\u001b[0m        \t^\u001b[0m\n\u001b[0;31mSyntaxError\u001b[0m\u001b[0;31m:\u001b[0m invalid syntax\n"
     ]
    }
   ],
   "source": [
    "# Largest yearly energy spenders\n",
    "# Group by 'year' and find the country with the highest energy consumption for each year\n",
    "highest_energy_spenders = energy_consumption_df.loc[energy_consumption_df.groupby('Year')['Primary Energy Consumption'].idxmax()]\n",
    "\n",
    "# Create a new DataFrame with 'year' and corresponding highest energy spender by 'country'\n",
    "highest_spenders_per_year = highest_energy_spenders[['Year', 'Country', 'Primary Energy Consumption']]\n",
    "\n",
    "# Display the highest energy spender for each year\n",
    "highest_energy_spenders_df= pd.DataFrame(highest_spenders_per_year)\n",
    "highest_energy_spenders_df.name = 'Largest Energy Spenders Yearly by Energy Consumption'\n",
    "highest_energy_spenders_df\n",
    "Year\tCountry\t"
   ]
  },
  {
   "cell_type": "code",
   "execution_count": 21,
   "id": "3ee373c4-cbd3-4034-9db2-1d2c8ecee61c",
   "metadata": {},
   "outputs": [
    {
     "ename": "NameError",
     "evalue": "name 'energy_consumption_df' is not defined",
     "output_type": "error",
     "traceback": [
      "\u001b[0;31m---------------------------------------------------------------------------\u001b[0m",
      "\u001b[0;31mNameError\u001b[0m                                 Traceback (most recent call last)",
      "Cell \u001b[0;32mIn[21], line 2\u001b[0m\n\u001b[1;32m      1\u001b[0m \u001b[38;5;66;03m# Find the top 10 countries with the highest energy consumption for given year (1985)\u001b[39;00m\n\u001b[0;32m----> 2\u001b[0m energy_1985 \u001b[38;5;241m=\u001b[39m \u001b[43menergy_consumption_df\u001b[49m[energy_consumption_df[\u001b[38;5;124m'\u001b[39m\u001b[38;5;124mYear\u001b[39m\u001b[38;5;124m'\u001b[39m] \u001b[38;5;241m==\u001b[39m \u001b[38;5;241m1985\u001b[39m]\n\u001b[1;32m      3\u001b[0m top_energy_spenders_1985 \u001b[38;5;241m=\u001b[39m energy_1985\u001b[38;5;241m.\u001b[39mnlargest(\u001b[38;5;241m10\u001b[39m, \u001b[38;5;124m'\u001b[39m\u001b[38;5;124mPrimary Energy Consumption\u001b[39m\u001b[38;5;124m'\u001b[39m)\n\u001b[1;32m      5\u001b[0m \u001b[38;5;66;03m# Create new Dataframe for the top 10 energy spenders in 1985\u001b[39;00m\n",
      "\u001b[0;31mNameError\u001b[0m: name 'energy_consumption_df' is not defined"
     ]
    }
   ],
   "source": [
    "# Find the top 10 countries with the highest energy consumption for given year (1985)\n",
    "energy_1985 = energy_consumption_df[energy_consumption_df['Year'] == 1985]\n",
    "top_energy_spenders_1985 = energy_1985.nlargest(10, 'Primary Energy Consumption')\n",
    "\n",
    "# Create new Dataframe for the top 10 energy spenders in 1985\n",
    "top_10_energy_spenders_1985_df = top_energy_spenders_1985[['Year', 'Country', 'Primary Energy Consumption']]\n",
    "\n",
    "# Display and rename DataFrame\n",
    "top_10_energy_spenders_1985_df.name = 'Top 10 Energy Spenders in 1985 by Energy Consumption'\n",
    "top_10_energy_spenders_1985_df"
   ]
  },
  {
   "cell_type": "code",
   "execution_count": 22,
   "id": "d48894c1-174b-48b2-9f8a-e5c6541899e4",
   "metadata": {},
   "outputs": [
    {
     "ename": "NameError",
     "evalue": "name 'energy_consumption_df' is not defined",
     "output_type": "error",
     "traceback": [
      "\u001b[0;31m---------------------------------------------------------------------------\u001b[0m",
      "\u001b[0;31mNameError\u001b[0m                                 Traceback (most recent call last)",
      "Cell \u001b[0;32mIn[22], line 2\u001b[0m\n\u001b[1;32m      1\u001b[0m \u001b[38;5;66;03m# Find the top 10 countries with the highest energy consumption for given year (1995)\u001b[39;00m\n\u001b[0;32m----> 2\u001b[0m energy_1995 \u001b[38;5;241m=\u001b[39m \u001b[43menergy_consumption_df\u001b[49m[energy_consumption_df[\u001b[38;5;124m'\u001b[39m\u001b[38;5;124mYear\u001b[39m\u001b[38;5;124m'\u001b[39m] \u001b[38;5;241m==\u001b[39m \u001b[38;5;241m1995\u001b[39m]\n\u001b[1;32m      3\u001b[0m top_energy_spenders_1995 \u001b[38;5;241m=\u001b[39m energy_1995\u001b[38;5;241m.\u001b[39mnlargest(\u001b[38;5;241m10\u001b[39m, \u001b[38;5;124m'\u001b[39m\u001b[38;5;124mPrimary Energy Consumption\u001b[39m\u001b[38;5;124m'\u001b[39m)\n\u001b[1;32m      5\u001b[0m \u001b[38;5;66;03m# Create new Dataframe for the top 10 energy spenders in 1995\u001b[39;00m\n",
      "\u001b[0;31mNameError\u001b[0m: name 'energy_consumption_df' is not defined"
     ]
    }
   ],
   "source": [
    "# Find the top 10 countries with the highest energy consumption for given year (1995)\n",
    "energy_1995 = energy_consumption_df[energy_consumption_df['Year'] == 1995]\n",
    "top_energy_spenders_1995 = energy_1995.nlargest(10, 'Primary Energy Consumption')\n",
    "\n",
    "# Create new Dataframe for the top 10 energy spenders in 1995\n",
    "top_10_energy_spenders_1995_df = top_energy_spenders_1995[['Year', 'Country', 'Primary Energy Consumption']]\n",
    "\n",
    "# Display and rename DataFrame\n",
    "top_10_energy_spenders_1995_df.name = 'Top 10 Energy Spenders in 1995 by Energy Consumption'\n",
    "top_10_energy_spenders_1995_df"
   ]
  },
  {
   "cell_type": "code",
   "execution_count": 23,
   "id": "edcc5254-8de7-4acb-b2a7-20ed30b32aca",
   "metadata": {},
   "outputs": [
    {
     "ename": "NameError",
     "evalue": "name 'energy_consumption_df' is not defined",
     "output_type": "error",
     "traceback": [
      "\u001b[0;31m---------------------------------------------------------------------------\u001b[0m",
      "\u001b[0;31mNameError\u001b[0m                                 Traceback (most recent call last)",
      "Cell \u001b[0;32mIn[23], line 2\u001b[0m\n\u001b[1;32m      1\u001b[0m \u001b[38;5;66;03m# Find the top 10 countries with the highest energy consumption for given year (2000)\u001b[39;00m\n\u001b[0;32m----> 2\u001b[0m energy_2000 \u001b[38;5;241m=\u001b[39m \u001b[43menergy_consumption_df\u001b[49m[energy_consumption_df[\u001b[38;5;124m'\u001b[39m\u001b[38;5;124mYear\u001b[39m\u001b[38;5;124m'\u001b[39m] \u001b[38;5;241m==\u001b[39m \u001b[38;5;241m2000\u001b[39m]\n\u001b[1;32m      3\u001b[0m top_energy_spenders_2000 \u001b[38;5;241m=\u001b[39m energy_2000\u001b[38;5;241m.\u001b[39mnlargest(\u001b[38;5;241m10\u001b[39m, \u001b[38;5;124m'\u001b[39m\u001b[38;5;124mPrimary Energy Consumption\u001b[39m\u001b[38;5;124m'\u001b[39m)\n\u001b[1;32m      5\u001b[0m \u001b[38;5;66;03m# Create new Dataframe for the top 10 energy spenders in 2000\u001b[39;00m\n",
      "\u001b[0;31mNameError\u001b[0m: name 'energy_consumption_df' is not defined"
     ]
    }
   ],
   "source": [
    "# Find the top 10 countries with the highest energy consumption for given year (2000)\n",
    "energy_2000 = energy_consumption_df[energy_consumption_df['Year'] == 2000]\n",
    "top_energy_spenders_2000 = energy_2000.nlargest(10, 'Primary Energy Consumption')\n",
    "\n",
    "# Create new Dataframe for the top 10 energy spenders in 2000\n",
    "top_10_energy_spenders_2000_df = top_energy_spenders_2000[['Year', 'Country', 'Primary Energy Consumption']]\n",
    "\n",
    "# Display and rename DataFrame\n",
    "top_10_energy_spenders_2000_df.name = 'Top 10 Energy Spenders in 2000 by Energy Consumption'\n",
    "top_10_energy_spenders_2000_df"
   ]
  },
  {
   "cell_type": "code",
   "execution_count": 24,
   "id": "2192af38-40a7-462f-bde6-7d166090ec17",
   "metadata": {},
   "outputs": [
    {
     "ename": "NameError",
     "evalue": "name 'energy_consumption_df' is not defined",
     "output_type": "error",
     "traceback": [
      "\u001b[0;31m---------------------------------------------------------------------------\u001b[0m",
      "\u001b[0;31mNameError\u001b[0m                                 Traceback (most recent call last)",
      "Cell \u001b[0;32mIn[24], line 2\u001b[0m\n\u001b[1;32m      1\u001b[0m \u001b[38;5;66;03m# Find the top 10 countries with the highest energy consumption for given year (2010)\u001b[39;00m\n\u001b[0;32m----> 2\u001b[0m energy_2010 \u001b[38;5;241m=\u001b[39m \u001b[43menergy_consumption_df\u001b[49m[energy_consumption_df[\u001b[38;5;124m'\u001b[39m\u001b[38;5;124mYear\u001b[39m\u001b[38;5;124m'\u001b[39m] \u001b[38;5;241m==\u001b[39m \u001b[38;5;241m2010\u001b[39m]\n\u001b[1;32m      3\u001b[0m top_energy_spenders_2010 \u001b[38;5;241m=\u001b[39m energy_2010\u001b[38;5;241m.\u001b[39mnlargest(\u001b[38;5;241m10\u001b[39m, \u001b[38;5;124m'\u001b[39m\u001b[38;5;124mPrimary Energy Consumption\u001b[39m\u001b[38;5;124m'\u001b[39m)\n\u001b[1;32m      5\u001b[0m \u001b[38;5;66;03m# Create new Dataframe for the top 10 energy spenders in 2010\u001b[39;00m\n",
      "\u001b[0;31mNameError\u001b[0m: name 'energy_consumption_df' is not defined"
     ]
    }
   ],
   "source": [
    "# Find the top 10 countries with the highest energy consumption for given year (2010)\n",
    "energy_2010 = energy_consumption_df[energy_consumption_df['Year'] == 2010]\n",
    "top_energy_spenders_2010 = energy_2010.nlargest(10, 'Primary Energy Consumption')\n",
    "\n",
    "# Create new Dataframe for the top 10 energy spenders in 2010\n",
    "top_10_energy_spenders_2010_df = top_energy_spenders_2010[['Year', 'Country', 'Primary Energy Consumption']]\n",
    "\n",
    "# Display and rename DataFrame\n",
    "top_10_energy_spenders_2010_df.name = 'Top 10 Energy Spenders in 2010 by Energy Consumption'\n",
    "top_10_energy_spenders_2010_df"
   ]
  },
  {
   "cell_type": "code",
   "execution_count": 25,
   "id": "7f1c7aae-7b3e-4e7a-9cd2-113eeb07dffa",
   "metadata": {},
   "outputs": [
    {
     "ename": "NameError",
     "evalue": "name 'energy_consumption_df' is not defined",
     "output_type": "error",
     "traceback": [
      "\u001b[0;31m---------------------------------------------------------------------------\u001b[0m",
      "\u001b[0;31mNameError\u001b[0m                                 Traceback (most recent call last)",
      "Cell \u001b[0;32mIn[25], line 2\u001b[0m\n\u001b[1;32m      1\u001b[0m \u001b[38;5;66;03m# Calculate total energy consumption for each country across all years\u001b[39;00m\n\u001b[0;32m----> 2\u001b[0m total_energy_consumption \u001b[38;5;241m=\u001b[39m \u001b[43menergy_consumption_df\u001b[49m\u001b[38;5;241m.\u001b[39mgroupby(\u001b[38;5;124m'\u001b[39m\u001b[38;5;124mCountry\u001b[39m\u001b[38;5;124m'\u001b[39m)[\u001b[38;5;124m'\u001b[39m\u001b[38;5;124mPrimary Energy Consumption\u001b[39m\u001b[38;5;124m'\u001b[39m]\u001b[38;5;241m.\u001b[39msum()\n\u001b[1;32m      4\u001b[0m \u001b[38;5;66;03m# Find the top 10 countries with highest cumulative energy consumption\u001b[39;00m\n\u001b[1;32m      5\u001b[0m top_10_cumulative_energy_spenders \u001b[38;5;241m=\u001b[39m total_energy_consumption\u001b[38;5;241m.\u001b[39mnlargest(\u001b[38;5;241m10\u001b[39m)\n",
      "\u001b[0;31mNameError\u001b[0m: name 'energy_consumption_df' is not defined"
     ]
    }
   ],
   "source": [
    "# Calculate total energy consumption for each country across all years\n",
    "total_energy_consumption = energy_consumption_df.groupby('Country')['Primary Energy Consumption'].sum()\n",
    "\n",
    "# Find the top 10 countries with highest cumulative energy consumption\n",
    "top_10_cumulative_energy_spenders = total_energy_consumption.nlargest(10)\n",
    "\n",
    "# Create new DataFrame for top 10 energy spenders for all records (1985-2022)\n",
    "top_10_cumulative_energy_spenders_df = pd.DataFrame(top_10_cumulative_energy_spenders).reset_index()\n",
    "top_10_cumulative_energy_spenders_df.columns = ['Country', 'Total Energy Consumption']\n",
    "\n",
    "# Display and rename DataFrame\n",
    "top_10_cumulative_energy_spenders_df.name = 'Top 10 Cumulative Energy Spenders 1985-2022'\n",
    "top_10_cumulative_energy_spenders_df"
   ]
  },
  {
   "cell_type": "code",
   "execution_count": 26,
   "id": "6cd45358-50b2-4654-8fcf-7925ebd11861",
   "metadata": {},
   "outputs": [
    {
     "ename": "NameError",
     "evalue": "name 'energy_consumption_df' is not defined",
     "output_type": "error",
     "traceback": [
      "\u001b[0;31m---------------------------------------------------------------------------\u001b[0m",
      "\u001b[0;31mNameError\u001b[0m                                 Traceback (most recent call last)",
      "Cell \u001b[0;32mIn[26], line 2\u001b[0m\n\u001b[1;32m      1\u001b[0m \u001b[38;5;66;03m# Largest yearly polluters (by CO2 emissions)\u001b[39;00m\n\u001b[0;32m----> 2\u001b[0m largest_polluters \u001b[38;5;241m=\u001b[39m \u001b[43menergy_consumption_df\u001b[49m\u001b[38;5;241m.\u001b[39mloc[energy_consumption_df\u001b[38;5;241m.\u001b[39mgroupby(\u001b[38;5;124m'\u001b[39m\u001b[38;5;124mYear\u001b[39m\u001b[38;5;124m'\u001b[39m)[\u001b[38;5;124m'\u001b[39m\u001b[38;5;124mEnergy CO2 Emissions\u001b[39m\u001b[38;5;124m'\u001b[39m]\u001b[38;5;241m.\u001b[39midxmax()]\n\u001b[1;32m      4\u001b[0m \u001b[38;5;66;03m# Create a new DataFrame for largest polluters by year and country\u001b[39;00m\n\u001b[1;32m      5\u001b[0m largest_polluters_per_year \u001b[38;5;241m=\u001b[39m largest_polluters[[\u001b[38;5;124m'\u001b[39m\u001b[38;5;124mYear\u001b[39m\u001b[38;5;124m'\u001b[39m, \u001b[38;5;124m'\u001b[39m\u001b[38;5;124mCountry\u001b[39m\u001b[38;5;124m'\u001b[39m, \u001b[38;5;124m'\u001b[39m\u001b[38;5;124mEnergy CO2 Emissions\u001b[39m\u001b[38;5;124m'\u001b[39m]]\n",
      "\u001b[0;31mNameError\u001b[0m: name 'energy_consumption_df' is not defined"
     ]
    }
   ],
   "source": [
    "# Largest yearly polluters (by CO2 emissions)\n",
    "largest_polluters = energy_consumption_df.loc[energy_consumption_df.groupby('Year')['Energy CO2 Emissions'].idxmax()]\n",
    "\n",
    "# Create a new DataFrame for largest polluters by year and country\n",
    "largest_polluters_per_year = largest_polluters[['Year', 'Country', 'Energy CO2 Emissions']]\n",
    "\n",
    "# Display the largest polluter (CO2 emissions) for each year\n",
    "largest_polluters_df= pd.DataFrame(largest_polluters_per_year)\n",
    "largest_polluters_df.name = 'Largest Polluters Yearly by CO2 Emissions'\n",
    "largest_polluters_df"
   ]
  },
  {
   "cell_type": "code",
   "execution_count": null,
   "id": "41ad96c6-7a01-4648-9cda-495fe037793c",
   "metadata": {},
   "outputs": [],
   "source": [
    "# Find the top 10 largest polluters for given year (2010)\n",
    "emissions_2010 = energy_consumption_df[energy_consumption_df['Year'] == 2010]\n",
    "top_10_polluters_2010 = emissions_2010.nlargest(10, 'Energy CO2 Emissions')\n",
    "\n",
    "# Create new Dataframe for top 10  polluters in 1990\n",
    "top_10_polluters_2010_df = top_10_polluters_2010[['Year', 'Country', 'Energy CO2 Emissions']]\n",
    "\n",
    "# Display and rename DataFrame\n",
    "top_10_polluters_2010_df.name = 'Top 10 Energy Spenders in 2010 by Energy Consumption'\n",
    "top_10_polluters_2010_df"
   ]
  },
  {
   "cell_type": "code",
   "execution_count": null,
   "id": "43ecffd6-bf48-400f-916e-aa4ee50c5d0a",
   "metadata": {},
   "outputs": [],
   "source": [
    "# Calculate the total CO2 emissions for each country across all years\n",
    "total_emissions = energy_consumption_df.groupby('Country')['Energy CO2 Emissions'].sum()\n",
    "\n",
    "# Find the top 10 countries with greatest CO2 emissions \n",
    "top_polluters = total_emissions.nlargest(10)\n",
    "\n",
    "# Create a new DataFrame for the top 10 largest CO2 polluters\n",
    "top_polluters_df = pd.DataFrame(top_polluters).reset_index()\n",
    "top_polluters_df.columns = ['Country', 'Energy CO2 Emissions']\n",
    "\n",
    "# Display and rename DataFrame\n",
    "top_polluters_df.name = 'Top Polluters 1985-2022'\n",
    "top_polluters_df"
   ]
  },
  {
   "cell_type": "code",
   "execution_count": null,
   "id": "62145c38-4fe8-4c52-b5df-e6fece04c08e",
   "metadata": {},
   "outputs": [],
   "source": [
    "# Plotting the bar graph\n",
    "plt.figure(figsize=(10, 6))  # Adjust figure size as needed\n",
    "\n",
    "plt.bar(top_polluters_df['Country'], top_polluters_df['Energy CO2 Emissions'])\n",
    "\n",
    "plt.xlabel('Country')\n",
    "plt.ylabel('Cumulative CO2 Emissions')\n",
    "plt.title('Top 10 Countries with Greatest Cumulative CO2 Emissions (1985-2022)')\n",
    "\n",
    "plt.xticks(rotation=45, ha='right')  # Rotate x-axis labels for better readability\n",
    "\n",
    "plt.tight_layout()  # Adjust layout to prevent clipping of labels\n",
    "\n",
    "plt.show()"
   ]
  },
  {
   "cell_type": "code",
   "execution_count": null,
   "id": "82eadeaa-5aab-4ee8-9163-b9647593facd",
   "metadata": {},
   "outputs": [],
   "source": [
    "plt.figure(figsize=(12, 8))\n",
    "\n",
    "plt.bar(total_emissions.index, total_emissions.values)\n",
    "\n",
    "plt.xlabel('Country')\n",
    "plt.ylabel('Cumulative CO2 Emissions')\n",
    "plt.title('Cumulative CO2 Emissions by Country (1985-2022)')\n",
    "\n",
    "plt.xticks(rotation=90, fontsize=7)\n",
    "\n",
    "plt.tight_layout()\n",
    "\n",
    "plt.show()\n"
   ]
  },
  {
   "cell_type": "markdown",
   "id": "45346fdf-db6c-4a19-890e-a3157c8cce52",
   "metadata": {},
   "source": [
    "## What are the projected carbon footprints of countries in the next 10-20 years, considering population growth and the distribution of energy sources?"
   ]
  },
  {
   "cell_type": "code",
   "execution_count": null,
   "id": "5e67a270-ab1e-49ff-bee4-17f9b625c5a1",
   "metadata": {
    "scrolled": true
   },
   "outputs": [],
   "source": [
    "# Get count of countries\n",
    "country_counts = final_df['Country'].value_counts()\n",
    "\n",
    "# Print each unique country\n",
    "for country, count in country_counts.items():\n",
    "    print(country)\n",
    "\n",
    "# List the total number of unique countries\n",
    "total_countries = len(country_counts)\n",
    "print(f'Total number of unique countries: {total_countries}')"
   ]
  },
  {
   "cell_type": "code",
   "execution_count": null,
   "id": "b8cd017f-ee24-4cbc-99e9-b262b13bf55c",
   "metadata": {
    "scrolled": true
   },
   "outputs": [],
   "source": [
    "# Calculate total energy consumption per capita over time\n",
    "average_energy_consumption_per_capita = final_df.groupby('Year')['Energy Consumption per Capita'].mean()\n",
    "\n",
    "# Print \n",
    "print(f'Year | Average Energy Consumption per Capita {total_energy_consumption}')"
   ]
  },
  {
   "cell_type": "code",
   "execution_count": null,
   "id": "e755b09f-e940-40c0-baf0-ddde76b1d6a6",
   "metadata": {
    "scrolled": true
   },
   "outputs": [],
   "source": [
    "# Calculate percentage change of energy use per capita over the years\n",
    "average_energy_consumption_per_capita_shifted = average_energy_consumption_per_capita.shift(1)\n",
    "percentage_change = ((average_energy_consumption_per_capita - average_energy_consumption_per_capita_shifted) / average_energy_consumption_per_capita_shifted) * 100\n",
    "\n",
    "# Combine average energy consumption per capita and percentage change into a new DataFrame with percentages\n",
    "average_energy_df = pd.DataFrame({\n",
    "    'Average Annual Percentage Change of Energy Use per Capita': percentage_change.map(\"{:.2f}%\".format)\n",
    "})\n",
    "\n",
    "# Print the average energy consumption per capita percentage change over time\n",
    "print(average_energy_df)"
   ]
  },
  {
   "cell_type": "code",
   "execution_count": null,
   "id": "16aa10c0-75d1-4a97-8649-dab8341338e1",
   "metadata": {},
   "outputs": [],
   "source": [
    "# Analyze and compare CO2 emissions and energy consumption\n",
    "\n",
    "# Convert to numerical values to avoid error\n",
    "final_df['CO2 Emissions'] = pd.to_numeric(final_df['CO2 Emissions'], errors='coerce')\n",
    "final_df['Primary Energy Consumption'] = pd.to_numeric(final_df['Primary Energy Consumption'], errors='coerce')\n",
    "\n",
    "# Define columns for comparison\n",
    "co2_emissions = final_df['CO2 Emissions']\n",
    "energy_consumption = final_df['Primary Energy Consumption']\n",
    "\n",
    "# Solve for correlation of CO2 emission and average energy consumption, print out result\n",
    "consumption_emissions_corr = co2_emissions.corr(energy_consumption)\n",
    "print(f\"Correlation between CO2 emissions and energy consumption: {consumption_emissions_corr}\")"
   ]
  },
  {
   "cell_type": "markdown",
   "id": "22610ae3-34e2-4f25-bdf1-9c5d129a3be6",
   "metadata": {},
   "source": [
    "CO2 emissions and energy consumption have a very strong positive correlation. This indicates that there is a strong linear relationship between CO2 emissions and energy consumption. In practical terms, this means that as energy consumption increases, CO2 emissions tend to increase as well."
   ]
  },
  {
   "cell_type": "code",
   "execution_count": null,
   "id": "916f7c8e-a307-41fa-a058-69745cee58ac",
   "metadata": {},
   "outputs": [],
   "source": [
    "# Create graph to visualize correlation between energy consumption and CO2 emission\n",
    "consumption_emissions_corr = co2_emissions.corr(energy_consumption)\n",
    "\n",
    "slope, intercept, rvalue, pvalue, stderr = linregress(energy_consumption, co2_emissions)\n",
    "\n",
    "plt.scatter(energy_consumption, co2_emissions, s=2)\n",
    "plt.plot(energy_consumption, slope * energy_consumption + intercept, color = 'red')\n",
    "\n",
    "plt.xlabel('Energy Consumption (exajoules)')\n",
    "plt.ylabel('CO2 Emissions (million tonnes of carbon)')\n",
    "plt.grid(True)\n",
    "\n",
    "print(f\"Correlation between CO2 emissions and energy consumption: {consumption_emissions_corr}\")\n",
    "plt.show()"
   ]
  },
  {
   "cell_type": "code",
   "execution_count": null,
   "id": "eb207060-e513-433c-b970-431103591a3a",
   "metadata": {},
   "outputs": [],
   "source": [
    "# Analyze and compare CO2 emissions and energy consumption per capita\n",
    "\n",
    "# Convert to numerical value\n",
    "final_df['CO2 Emissions'] = pd.to_numeric(final_df['CO2 Emissions'], errors='coerce')\n",
    "final_df['Energy Consumption per Capita'] = pd.to_numeric(final_df['Energy Consumption per Capita'], errors='coerce')\n",
    "\n",
    "# Define columns for comparison\n",
    "co2_emissions = final_df['CO2 Emissions']\n",
    "energy_consumption_per_capita = final_df['Energy Consumption per Capita']\n",
    "\n",
    "# Calculate correlation\n",
    "capita_emissions_corr = co2_emissions.corr(energy_consumption_per_capita)\n",
    "print(f\"Correlation between CO2 emissions and energy consumption per capita: {capita_emissions_corr}\")"
   ]
  },
  {
   "cell_type": "markdown",
   "id": "f9737414-a45b-4142-824f-ebc5dcc2271c",
   "metadata": {},
   "source": [
    "CO2 emissions and energy consumption per capita have an extremely weak positive correlation."
   ]
  },
  {
   "cell_type": "code",
   "execution_count": null,
   "id": "0c32d39f-b19e-40bd-b69c-02dacdf901b4",
   "metadata": {},
   "outputs": [],
   "source": [
    "# Create graph to visualize correlation between CO2 emissions and energy consumption per capita\n",
    "capita_emissions_corr = co2_emissions.corr(energy_consumption_per_capita)\n",
    "\n",
    "slope, intercept, rvalue, pvalue, stderr = linregress(energy_consumption_per_capita, co2_emissions)\n",
    "\n",
    "plt.scatter(energy_consumption_per_capita, co2_emissions, s=1)\n",
    "plt.plot(energy_consumption_per_capita, slope * energy_consumption_per_capita + intercept, color = 'red')\n",
    "\n",
    "plt.xlabel('Energy Consumption per Capita (gigajoules)')\n",
    "plt.ylabel('CO2 Emissions (million tonnes of carbon)')\n",
    "plt.grid(True)\n",
    "\n",
    "print(f\"Correlation between CO2 emissions and energy consumption per capita: {capita_emissions_corr}\")\n",
    "plt.show()"
   ]
  },
  {
   "cell_type": "code",
   "execution_count": null,
   "id": "ed0832d3-1b6d-4155-8ea9-e1f7e6826755",
   "metadata": {
    "scrolled": true
   },
   "outputs": [],
   "source": [
    "# Group by Year and calculate the average energy consumption per each energy source\n",
    "average_energy_per_source_by_year = final_df.groupby('Year').agg({\n",
    "    'Energy Source Nuclear': 'mean',\n",
    "    'Energy Source Coal, peat and oil shale': 'mean',\n",
    "    'Energy Source Oil products': 'mean',\n",
    "    'Energy Source Electricity': 'mean',\n",
    "    'Energy Source Natural gas': 'mean'\n",
    "})\n",
    "\n",
    "# Find the most common energy source for each year based on the largest unit\n",
    "most_common_energy_source_per_year = average_energy_per_source_by_year.idxmax(axis=1)\n",
    "\n",
    "# Print or visualize the average energy consumption per each energy source by year and the most common energy source for each year\n",
    "print(\"Average Energy Consumption per Each Energy Source by Year:\")\n",
    "print(average_energy_per_source_by_year)\n",
    "print(\"\\nMost Common Energy Source for Each Year:\")\n",
    "print(most_common_energy_source_per_year)"
   ]
  },
  {
   "cell_type": "code",
   "execution_count": null,
   "id": "7fde7588-b53e-49eb-b0c5-030d95c62018",
   "metadata": {},
   "outputs": [],
   "source": [
    "# Plotting the data\n",
    "average_energy_per_source_by_year.plot(kind='line', marker='o', figsize=(10, 6))\n",
    "plt.title('Average Energy Consumption by Source Type Over 30 Years')\n",
    "plt.xlabel('Year')\n",
    "plt.ylabel('Average Energy Consumption (Gigajoules)')\n",
    "plt.grid(True)\n",
    "plt.legend(title='Energy Source')\n",
    "plt.tight_layout()\n",
    "plt.show()"
   ]
  },
  {
   "cell_type": "code",
   "execution_count": null,
   "id": "36967388-edb8-463e-87f7-ad9e1f1fac59",
   "metadata": {},
   "outputs": [],
   "source": [
    "# Set the figure size\n",
    "plt.figure(figsize=(12, 8))\n",
    "\n",
    "# Iterate over each energy source to create nested bar plot \n",
    "for col in average_energy_per_source_by_year.columns:\n",
    "    plt.bar(average_energy_per_source_by_year.index, average_energy_per_source_by_year[col], label=col)\n",
    "\n",
    "# Add labels and title\n",
    "plt.xlabel('Year')\n",
    "plt.ylabel('Total Energy Consumed (Gigajoules)')\n",
    "plt.title('Total Energy Consumption by Energy Source per Year')\n",
    "plt.xticks(average_energy_per_source_by_year.index, fontsize=6)  \n",
    "plt.legend()  \n",
    "\n",
    "# Display the plot\n",
    "plt.show()"
   ]
  },
  {
   "cell_type": "code",
   "execution_count": null,
   "id": "7c8642b2-a8b0-4cbf-9762-1bf5ff120ffd",
   "metadata": {},
   "outputs": [],
   "source": []
  },
  {
   "cell_type": "markdown",
   "id": "f219a408",
   "metadata": {},
   "source": [
    "## Does an increase in population impact the distribution of energy sources among specific countries?\n"
   ]
  },
  {
   "cell_type": "code",
   "execution_count": null,
   "id": "10e05e04",
   "metadata": {},
   "outputs": [],
   "source": [
    "# We can answer this question by calculating the percentage of growth in population for each country \n",
    "# over the years and then analyzing the distribution of energy sources among those countries.\n",
    "\n",
    "# Calculate the population for each country and year using a loop\n",
    "#Array of DataFrames\n",
    "population_df = []\n",
    "\n",
    "#Loop to calculate % growth of poulation per country\n",
    "for country in final_df['Country'].unique():\n",
    "\n",
    "    country_df = final_df[final_df['Country'] == country].copy()\n",
    "    country_df['Population Growth'] = country_df['Energy Consumption per Capita'].pct_change() * 100\n",
    "    country_df['Population Growth'] = country_df['Population Growth'].apply(lambda x: '{:.2f}'.format(x))\n",
    "\n",
    "    population_df.append(country_df)\n",
    "#Concat dfs\n",
    "df_pop_merged = pd.concat(population_df, ignore_index=True)"
   ]
  },
  {
   "cell_type": "code",
   "execution_count": null,
   "id": "87e64701-3e76-4a62-90ef-ef6360c81739",
   "metadata": {},
   "outputs": [],
   "source": [
    "#  Analyse the growth in energy source per country and year\n",
    "# # Calculate the growth of each energy source per year and country\n",
    "energy_sources_df = ['Energy Source Nuclear', 'Energy Source Coal, peat and oil shale', 'Energy Source Oil products', 'Energy Source Electricity', 'Energy Source Natural gas']\n",
    "for source in energy_sources_df:\n",
    "    df_pop_merged[f'{source} Growth %'] = df_pop_merged[source].pct_change() * 100\n",
    "    df_pop_merged[f'{source} Growth %'] = df_pop_merged[f'{source} Growth %'].apply(lambda x: '{:.2f}'.format(x))\n",
    "# Display the DataFrame with the growth percentage for each energy source\n",
    "df_pop_merged"
   ]
  },
  {
   "cell_type": "code",
   "execution_count": null,
   "id": "74d61300-a75b-4164-aab9-efa24a0c3050",
   "metadata": {},
   "outputs": [],
   "source": [
    "# Find the top 10 countries with the largest total energy consumption for analysis\n",
    "\n",
    "# Change values to numeric\n",
    "df_pop_merged['Primary Energy Consumption'] = pd.to_numeric(df_pop_merged['Primary Energy Consumption'], errors='coerce')\n",
    "df_pop_merged['Population Growth'] = pd.to_numeric(df_pop_merged['Population Growth'], errors='coerce')\n",
    "\n",
    "# Calculate each country's total energy consumption and population growth for each country across all years\n",
    "total_energy_and_population = df_pop_merged.groupby('Country').agg({'Primary Energy Consumption': 'sum', 'Population Growth': 'sum'})\n",
    "\n",
    "# Find the top 10 countries with highest cumulative energy consumption\n",
    "highest_energy_consumption = total_energy_and_population['Primary Energy Consumption'].nlargest(10)\n",
    "\n",
    "# Create new DataFrame for top 10 energy spenders for all records (1985-2022)\n",
    "highest_energy_consumption_df = pd.DataFrame({\n",
    "    'Country': highest_energy_consumption.index,\n",
    "    'Total Energy Consumption': highest_energy_consumption.values,\n",
    "    'Total Population Growth from 1990 - 2021': total_energy_and_population.loc[highest_energy_consumption.index, 'Population Growth'].values\n",
    "})\n",
    "\n",
    "# Append '%' sign to the 'Population Growth from 1990 - 2021' column\n",
    "highest_energy_consumption_df['Total Population Growth from 1990 - 2021'] = highest_energy_consumption_df['Total Population Growth from 1990 - 2021'].map('{:.2f}%'.format)\n",
    "\n",
    "# Display DataFrame\n",
    "highest_energy_consumption_df"
   ]
  },
  {
   "cell_type": "code",
   "execution_count": null,
   "id": "ce2f4299-6eb5-4638-ac51-9bb2ed374845",
   "metadata": {},
   "outputs": [],
   "source": [
    "# Convert to numerical value\n",
    "df_pop_merged['CO2 Emissions'] = pd.to_numeric(df_pop_merged['CO2 Emissions'], errors='coerce')\n",
    "df_pop_merged['Population Growth'] = pd.to_numeric(df_pop_merged['Population Growth'], errors='coerce')\n",
    "\n",
    "# Define columns for comparison\n",
    "co2_emissions = df_pop_merged['CO2 Emissions']\n",
    "pop_growth = df_pop_merged['Population Growth']\n",
    "\n",
    "# Calculate correlation\n",
    "population_emissions_corr = co2_emissions.corr(pop_growth)\n",
    "print(f\"Correlation between CO2 emissions and population growth: {population_emissions_corr}\")"
   ]
  },
  {
   "cell_type": "markdown",
   "id": "c70f0e5b-ea37-4803-852f-8cb8a5ce4403",
   "metadata": {},
   "source": [
    "CO2 emissions and population growth have a weak positive correlation. While there is a slight tendency for CO2 emissions and population growth to increase together, the relationship is not very strong. "
   ]
  },
  {
   "cell_type": "code",
   "execution_count": null,
   "id": "81a918f2-c2d1-419d-a1b1-29a997d19849",
   "metadata": {},
   "outputs": [],
   "source": [
    "# Create graph to visualize correlation between CO2 emissions and global population growth\n",
    "population_emissions_corr = co2_emissions.corr(pop_growth)\n",
    "\n",
    "slope, intercept, rvalue, pvalue, stderr = linregress(pop_growth, co2_emissions)\n",
    "\n",
    "plt.scatter(pop_growth, co2_emissions, s=1)\n",
    "plt.plot(pop_growth, slope * pop_growth + intercept, color = 'red')\n",
    "\n",
    "plt.xlabel('Population Growth)')\n",
    "plt.ylabel('CO2 Emissions (million tonnes of carbon)')\n",
    "plt.grid(True)\n",
    "\n",
    "print(f\"Correlation between CO2 emissions and global population growth: {population_emissions_corr}\")\n",
    "plt.show()"
   ]
  },
  {
   "cell_type": "markdown",
   "id": "9a2d2db4-f06c-410d-a576-76260ae210b6",
   "metadata": {},
   "source": [
    "# What is the most common energy source ? Has it changed over time ?"
   ]
  },
  {
   "cell_type": "code",
   "execution_count": null,
   "id": "0e8518c9-b026-4418-9f42-b39ae32ee302",
   "metadata": {},
   "outputs": [],
   "source": [
    "# Create a stack bar chart for all energy sources over 30 years period\n",
    "\n",
    "# Exclude columns 'B' and 'C' from the DataFrame\n",
    "columns_to_exclude = ['Primary Energy Consumption','Energy Consumption per Capita','CO2 Emissions']\n",
    "filtered_df = final_df.drop(columns=columns_to_exclude)\n",
    "\n",
    "# Group the data by year and calculate total energy consumption for each energy source\n",
    "grouped = filtered_df.groupby('Year').sum()\n",
    "\n",
    "# Create a bar chart to visualize the trends over time\n",
    "grouped.plot(kind='bar', stacked=True, figsize=(12, 6))\n",
    "plt.title('Energy Consumption by Source Over Time')\n",
    "plt.xlabel('Year')\n",
    "plt.ylabel('Total Energy Consumption')\n",
    "plt.legend(title='Energy Source')\n",
    "plt.show()\n"
   ]
  },
  {
   "cell_type": "markdown",
   "id": "3309434e-dbed-4f2d-abad-42925e411181",
   "metadata": {},
   "source": [
    "Does an increase in consumption impact the distribution of energy sources among specific countries?\n"
   ]
  },
  {
   "cell_type": "code",
   "execution_count": null,
   "id": "aa3d87f0-c777-403f-ae6c-c29d208a1911",
   "metadata": {},
   "outputs": [],
   "source": [
    "# We can answer this question by calculating the percentage of growth in population for each country \n",
    "# over the years and then analyzing the distribution of energy sources among those countries.\n",
    "\n",
    "# Calculate the energy consumption population for each country and year using a loop\n",
    "#Array of DataFrames\n",
    "population_consumption_df = []\n",
    "\n",
    "#Loop to calculate % growth of poulation per country\n",
    "for country in final_df['Country'].unique():\n",
    "\n",
    "    country_df = final_df[final_df['Country'] == country].copy()\n",
    "    country_df['Consumption Growth - Capita %'] = country_df['Energy Consumption per Capita'].pct_change() * 100\n",
    "    country_df['Consumption Growth - Capita %'] = country_df['Consumption Growth - Capita %'].apply(lambda x: '{:.2f}'.format(x))\n",
    "\n",
    "    population_consumption_df.append(country_df)\n",
    "#Concat dfs\n",
    "df_pop_merged = pd.concat(population_consumption_df, ignore_index=True)\n",
    "\n",
    "# Save the final dataframe to a csv file\n",
    "df_pop_merged.to_csv(os.path.join(output_folder, 'final_data_with_population_growth.csv'), index=False)\n",
    "\n",
    "\n",
    "#  Analyse the growth in energy source per country and year\n",
    "# # Calculate the growth of each energy source per year and country\n",
    "energy_sources = ['Energy Source Nuclear', 'Energy Source Coal, peat and oil shale', 'Energy Source Oil products', 'Energy Source Electricity', 'Energy Source Natural gas']\n",
    "\n",
    "for source in energy_sources:\n",
    "    df_pop_merged[f'{source} Growth %'] = df_pop_merged[source].pct_change() * 100\n",
    "    df_pop_merged[f'{source} Growth %'] = df_pop_merged[f'{source} Growth %'].apply(lambda x: '{:.2f}'.format(x))\n",
    "\n",
    "# Display the DataFrame with the growth percentage for each energy source\n",
    "df_pop_merged\n",
    "\n",
    "# Save the final dataframe to a csv file\n",
    "df_pop_merged.to_csv(os.path.join(output_folder, 'final_data_with_population_and_energy_growth.csv'), index=False)"
   ]
  },
  {
   "cell_type": "code",
   "execution_count": null,
   "id": "01622b30-92da-44f7-9817-2047935bc4d5",
   "metadata": {},
   "outputs": [],
   "source": [
    "# Create plot for the distribution of energy sources among the countries\n",
    "\n",
    "def energy_country(country):\n",
    "    plt.figure(figsize=(10, 4))\n",
    "    country_df = df_pop_merged[df_pop_merged['Country'] == country]\n",
    "    for source in energy_sources:\n",
    "        plt.plot(country_df['Year'], country_df[source], label=source)\n",
    "    plt.xlabel('Year')\n",
    "    plt.ylabel('Energy Consumption')\n",
    "    plt.title(f'Energy Consumption Trends in {country} by Source')\n",
    "    plt.legend()\n",
    "    plt.grid(True)\n",
    "    plt.xticks(rotation=90)\n",
    "    plt.show()\n",
    "\n",
    "# Create iteration to plot the distribution of energy sources among the countries\n",
    "for country in df_pop_merged['Country'].unique():\n",
    "    energy_country(country)"
   ]
  },
  {
   "cell_type": "code",
   "execution_count": null,
   "id": "d9b9ab35-2b9b-4c25-bf20-3f78eb57bdee",
   "metadata": {},
   "outputs": [],
   "source": []
  },
  {
   "cell_type": "code",
   "execution_count": null,
   "id": "cfbed17f-05f8-4e32-9674-71926261a12b",
   "metadata": {},
   "outputs": [],
   "source": []
  }
 ],
 "metadata": {
  "kernelspec": {
   "display_name": "Python 3 (ipykernel)",
   "language": "python",
   "name": "python3"
  },
  "language_info": {
   "codemirror_mode": {
    "name": "ipython",
    "version": 3
   },
   "file_extension": ".py",
   "mimetype": "text/x-python",
   "name": "python",
   "nbconvert_exporter": "python",
   "pygments_lexer": "ipython3",
   "version": "3.10.13"
  }
 },
 "nbformat": 4,
 "nbformat_minor": 5
}
